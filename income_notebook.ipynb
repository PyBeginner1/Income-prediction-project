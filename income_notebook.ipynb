{
  "nbformat": 4,
  "nbformat_minor": 0,
  "metadata": {
    "colab": {
      "provenance": []
    },
    "kernelspec": {
      "name": "python3",
      "display_name": "Python 3"
    },
    "language_info": {
      "name": "python"
    }
  },
  "cells": [
    {
      "cell_type": "code",
      "execution_count": 115,
      "metadata": {
        "id": "9M8TWLnMf-he"
      },
      "outputs": [],
      "source": [
        "import numpy as np\n",
        "import pandas as pd\n",
        "\n",
        "import matplotlib.pyplot as plt\n",
        "import seaborn as sns\n",
        "\n",
        "from sklearn.preprocessing import LabelEncoder\n",
        "from sklearn.model_selection import train_test_split, GridSearchCV\n",
        "from imblearn.over_sampling import RandomOverSampler\n",
        "\n",
        "from sklearn.linear_model import LogisticRegression\n",
        "from sklearn.naive_bayes import GaussianNB\n",
        "from sklearn.ensemble import RandomForestClassifier\n",
        "from sklearn.tree import DecisionTreeClassifier\n",
        "from sklearn.svm import SVC\n",
        "from xgboost import XGBClassifier\n",
        "\n",
        "from sklearn.metrics import accuracy_score, classification_report, confusion_matrix"
      ]
    },
    {
      "cell_type": "code",
      "source": [
        "df = pd.read_csv('adult.csv')\n",
        "df"
      ],
      "metadata": {
        "colab": {
          "base_uri": "https://localhost:8080/",
          "height": 658
        },
        "id": "mRJG1FDfggoZ",
        "outputId": "64d9f962-32cc-42c7-ca34-77d9a9be042e"
      },
      "execution_count": 39,
      "outputs": [
        {
          "output_type": "execute_result",
          "data": {
            "text/plain": [
              "       age          workclass  fnlwgt    education  education-num  \\\n",
              "0       39          State-gov   77516    Bachelors             13   \n",
              "1       50   Self-emp-not-inc   83311    Bachelors             13   \n",
              "2       38            Private  215646      HS-grad              9   \n",
              "3       53            Private  234721         11th              7   \n",
              "4       28            Private  338409    Bachelors             13   \n",
              "...    ...                ...     ...          ...            ...   \n",
              "32556   27            Private  257302   Assoc-acdm             12   \n",
              "32557   40            Private  154374      HS-grad              9   \n",
              "32558   58            Private  151910      HS-grad              9   \n",
              "32559   22            Private  201490      HS-grad              9   \n",
              "32560   52       Self-emp-inc  287927      HS-grad              9   \n",
              "\n",
              "            marital-status          occupation    relationship    race  \\\n",
              "0            Never-married        Adm-clerical   Not-in-family   White   \n",
              "1       Married-civ-spouse     Exec-managerial         Husband   White   \n",
              "2                 Divorced   Handlers-cleaners   Not-in-family   White   \n",
              "3       Married-civ-spouse   Handlers-cleaners         Husband   Black   \n",
              "4       Married-civ-spouse      Prof-specialty            Wife   Black   \n",
              "...                    ...                 ...             ...     ...   \n",
              "32556   Married-civ-spouse        Tech-support            Wife   White   \n",
              "32557   Married-civ-spouse   Machine-op-inspct         Husband   White   \n",
              "32558              Widowed        Adm-clerical       Unmarried   White   \n",
              "32559        Never-married        Adm-clerical       Own-child   White   \n",
              "32560   Married-civ-spouse     Exec-managerial            Wife   White   \n",
              "\n",
              "           sex  capital-gain  capital-loss  hours-per-week         country  \\\n",
              "0         Male          2174             0              40   United-States   \n",
              "1         Male             0             0              13   United-States   \n",
              "2         Male             0             0              40   United-States   \n",
              "3         Male             0             0              40   United-States   \n",
              "4       Female             0             0              40            Cuba   \n",
              "...        ...           ...           ...             ...             ...   \n",
              "32556   Female             0             0              38   United-States   \n",
              "32557     Male             0             0              40   United-States   \n",
              "32558   Female             0             0              40   United-States   \n",
              "32559     Male             0             0              20   United-States   \n",
              "32560   Female         15024             0              40   United-States   \n",
              "\n",
              "       salary  \n",
              "0       <=50K  \n",
              "1       <=50K  \n",
              "2       <=50K  \n",
              "3       <=50K  \n",
              "4       <=50K  \n",
              "...       ...  \n",
              "32556   <=50K  \n",
              "32557    >50K  \n",
              "32558   <=50K  \n",
              "32559   <=50K  \n",
              "32560    >50K  \n",
              "\n",
              "[32561 rows x 15 columns]"
            ],
            "text/html": [
              "\n",
              "  <div id=\"df-1f39480a-d233-4eb9-a8fb-e77721a6ccf0\">\n",
              "    <div class=\"colab-df-container\">\n",
              "      <div>\n",
              "<style scoped>\n",
              "    .dataframe tbody tr th:only-of-type {\n",
              "        vertical-align: middle;\n",
              "    }\n",
              "\n",
              "    .dataframe tbody tr th {\n",
              "        vertical-align: top;\n",
              "    }\n",
              "\n",
              "    .dataframe thead th {\n",
              "        text-align: right;\n",
              "    }\n",
              "</style>\n",
              "<table border=\"1\" class=\"dataframe\">\n",
              "  <thead>\n",
              "    <tr style=\"text-align: right;\">\n",
              "      <th></th>\n",
              "      <th>age</th>\n",
              "      <th>workclass</th>\n",
              "      <th>fnlwgt</th>\n",
              "      <th>education</th>\n",
              "      <th>education-num</th>\n",
              "      <th>marital-status</th>\n",
              "      <th>occupation</th>\n",
              "      <th>relationship</th>\n",
              "      <th>race</th>\n",
              "      <th>sex</th>\n",
              "      <th>capital-gain</th>\n",
              "      <th>capital-loss</th>\n",
              "      <th>hours-per-week</th>\n",
              "      <th>country</th>\n",
              "      <th>salary</th>\n",
              "    </tr>\n",
              "  </thead>\n",
              "  <tbody>\n",
              "    <tr>\n",
              "      <th>0</th>\n",
              "      <td>39</td>\n",
              "      <td>State-gov</td>\n",
              "      <td>77516</td>\n",
              "      <td>Bachelors</td>\n",
              "      <td>13</td>\n",
              "      <td>Never-married</td>\n",
              "      <td>Adm-clerical</td>\n",
              "      <td>Not-in-family</td>\n",
              "      <td>White</td>\n",
              "      <td>Male</td>\n",
              "      <td>2174</td>\n",
              "      <td>0</td>\n",
              "      <td>40</td>\n",
              "      <td>United-States</td>\n",
              "      <td>&lt;=50K</td>\n",
              "    </tr>\n",
              "    <tr>\n",
              "      <th>1</th>\n",
              "      <td>50</td>\n",
              "      <td>Self-emp-not-inc</td>\n",
              "      <td>83311</td>\n",
              "      <td>Bachelors</td>\n",
              "      <td>13</td>\n",
              "      <td>Married-civ-spouse</td>\n",
              "      <td>Exec-managerial</td>\n",
              "      <td>Husband</td>\n",
              "      <td>White</td>\n",
              "      <td>Male</td>\n",
              "      <td>0</td>\n",
              "      <td>0</td>\n",
              "      <td>13</td>\n",
              "      <td>United-States</td>\n",
              "      <td>&lt;=50K</td>\n",
              "    </tr>\n",
              "    <tr>\n",
              "      <th>2</th>\n",
              "      <td>38</td>\n",
              "      <td>Private</td>\n",
              "      <td>215646</td>\n",
              "      <td>HS-grad</td>\n",
              "      <td>9</td>\n",
              "      <td>Divorced</td>\n",
              "      <td>Handlers-cleaners</td>\n",
              "      <td>Not-in-family</td>\n",
              "      <td>White</td>\n",
              "      <td>Male</td>\n",
              "      <td>0</td>\n",
              "      <td>0</td>\n",
              "      <td>40</td>\n",
              "      <td>United-States</td>\n",
              "      <td>&lt;=50K</td>\n",
              "    </tr>\n",
              "    <tr>\n",
              "      <th>3</th>\n",
              "      <td>53</td>\n",
              "      <td>Private</td>\n",
              "      <td>234721</td>\n",
              "      <td>11th</td>\n",
              "      <td>7</td>\n",
              "      <td>Married-civ-spouse</td>\n",
              "      <td>Handlers-cleaners</td>\n",
              "      <td>Husband</td>\n",
              "      <td>Black</td>\n",
              "      <td>Male</td>\n",
              "      <td>0</td>\n",
              "      <td>0</td>\n",
              "      <td>40</td>\n",
              "      <td>United-States</td>\n",
              "      <td>&lt;=50K</td>\n",
              "    </tr>\n",
              "    <tr>\n",
              "      <th>4</th>\n",
              "      <td>28</td>\n",
              "      <td>Private</td>\n",
              "      <td>338409</td>\n",
              "      <td>Bachelors</td>\n",
              "      <td>13</td>\n",
              "      <td>Married-civ-spouse</td>\n",
              "      <td>Prof-specialty</td>\n",
              "      <td>Wife</td>\n",
              "      <td>Black</td>\n",
              "      <td>Female</td>\n",
              "      <td>0</td>\n",
              "      <td>0</td>\n",
              "      <td>40</td>\n",
              "      <td>Cuba</td>\n",
              "      <td>&lt;=50K</td>\n",
              "    </tr>\n",
              "    <tr>\n",
              "      <th>...</th>\n",
              "      <td>...</td>\n",
              "      <td>...</td>\n",
              "      <td>...</td>\n",
              "      <td>...</td>\n",
              "      <td>...</td>\n",
              "      <td>...</td>\n",
              "      <td>...</td>\n",
              "      <td>...</td>\n",
              "      <td>...</td>\n",
              "      <td>...</td>\n",
              "      <td>...</td>\n",
              "      <td>...</td>\n",
              "      <td>...</td>\n",
              "      <td>...</td>\n",
              "      <td>...</td>\n",
              "    </tr>\n",
              "    <tr>\n",
              "      <th>32556</th>\n",
              "      <td>27</td>\n",
              "      <td>Private</td>\n",
              "      <td>257302</td>\n",
              "      <td>Assoc-acdm</td>\n",
              "      <td>12</td>\n",
              "      <td>Married-civ-spouse</td>\n",
              "      <td>Tech-support</td>\n",
              "      <td>Wife</td>\n",
              "      <td>White</td>\n",
              "      <td>Female</td>\n",
              "      <td>0</td>\n",
              "      <td>0</td>\n",
              "      <td>38</td>\n",
              "      <td>United-States</td>\n",
              "      <td>&lt;=50K</td>\n",
              "    </tr>\n",
              "    <tr>\n",
              "      <th>32557</th>\n",
              "      <td>40</td>\n",
              "      <td>Private</td>\n",
              "      <td>154374</td>\n",
              "      <td>HS-grad</td>\n",
              "      <td>9</td>\n",
              "      <td>Married-civ-spouse</td>\n",
              "      <td>Machine-op-inspct</td>\n",
              "      <td>Husband</td>\n",
              "      <td>White</td>\n",
              "      <td>Male</td>\n",
              "      <td>0</td>\n",
              "      <td>0</td>\n",
              "      <td>40</td>\n",
              "      <td>United-States</td>\n",
              "      <td>&gt;50K</td>\n",
              "    </tr>\n",
              "    <tr>\n",
              "      <th>32558</th>\n",
              "      <td>58</td>\n",
              "      <td>Private</td>\n",
              "      <td>151910</td>\n",
              "      <td>HS-grad</td>\n",
              "      <td>9</td>\n",
              "      <td>Widowed</td>\n",
              "      <td>Adm-clerical</td>\n",
              "      <td>Unmarried</td>\n",
              "      <td>White</td>\n",
              "      <td>Female</td>\n",
              "      <td>0</td>\n",
              "      <td>0</td>\n",
              "      <td>40</td>\n",
              "      <td>United-States</td>\n",
              "      <td>&lt;=50K</td>\n",
              "    </tr>\n",
              "    <tr>\n",
              "      <th>32559</th>\n",
              "      <td>22</td>\n",
              "      <td>Private</td>\n",
              "      <td>201490</td>\n",
              "      <td>HS-grad</td>\n",
              "      <td>9</td>\n",
              "      <td>Never-married</td>\n",
              "      <td>Adm-clerical</td>\n",
              "      <td>Own-child</td>\n",
              "      <td>White</td>\n",
              "      <td>Male</td>\n",
              "      <td>0</td>\n",
              "      <td>0</td>\n",
              "      <td>20</td>\n",
              "      <td>United-States</td>\n",
              "      <td>&lt;=50K</td>\n",
              "    </tr>\n",
              "    <tr>\n",
              "      <th>32560</th>\n",
              "      <td>52</td>\n",
              "      <td>Self-emp-inc</td>\n",
              "      <td>287927</td>\n",
              "      <td>HS-grad</td>\n",
              "      <td>9</td>\n",
              "      <td>Married-civ-spouse</td>\n",
              "      <td>Exec-managerial</td>\n",
              "      <td>Wife</td>\n",
              "      <td>White</td>\n",
              "      <td>Female</td>\n",
              "      <td>15024</td>\n",
              "      <td>0</td>\n",
              "      <td>40</td>\n",
              "      <td>United-States</td>\n",
              "      <td>&gt;50K</td>\n",
              "    </tr>\n",
              "  </tbody>\n",
              "</table>\n",
              "<p>32561 rows × 15 columns</p>\n",
              "</div>\n",
              "      <button class=\"colab-df-convert\" onclick=\"convertToInteractive('df-1f39480a-d233-4eb9-a8fb-e77721a6ccf0')\"\n",
              "              title=\"Convert this dataframe to an interactive table.\"\n",
              "              style=\"display:none;\">\n",
              "        \n",
              "  <svg xmlns=\"http://www.w3.org/2000/svg\" height=\"24px\"viewBox=\"0 0 24 24\"\n",
              "       width=\"24px\">\n",
              "    <path d=\"M0 0h24v24H0V0z\" fill=\"none\"/>\n",
              "    <path d=\"M18.56 5.44l.94 2.06.94-2.06 2.06-.94-2.06-.94-.94-2.06-.94 2.06-2.06.94zm-11 1L8.5 8.5l.94-2.06 2.06-.94-2.06-.94L8.5 2.5l-.94 2.06-2.06.94zm10 10l.94 2.06.94-2.06 2.06-.94-2.06-.94-.94-2.06-.94 2.06-2.06.94z\"/><path d=\"M17.41 7.96l-1.37-1.37c-.4-.4-.92-.59-1.43-.59-.52 0-1.04.2-1.43.59L10.3 9.45l-7.72 7.72c-.78.78-.78 2.05 0 2.83L4 21.41c.39.39.9.59 1.41.59.51 0 1.02-.2 1.41-.59l7.78-7.78 2.81-2.81c.8-.78.8-2.07 0-2.86zM5.41 20L4 18.59l7.72-7.72 1.47 1.35L5.41 20z\"/>\n",
              "  </svg>\n",
              "      </button>\n",
              "      \n",
              "  <style>\n",
              "    .colab-df-container {\n",
              "      display:flex;\n",
              "      flex-wrap:wrap;\n",
              "      gap: 12px;\n",
              "    }\n",
              "\n",
              "    .colab-df-convert {\n",
              "      background-color: #E8F0FE;\n",
              "      border: none;\n",
              "      border-radius: 50%;\n",
              "      cursor: pointer;\n",
              "      display: none;\n",
              "      fill: #1967D2;\n",
              "      height: 32px;\n",
              "      padding: 0 0 0 0;\n",
              "      width: 32px;\n",
              "    }\n",
              "\n",
              "    .colab-df-convert:hover {\n",
              "      background-color: #E2EBFA;\n",
              "      box-shadow: 0px 1px 2px rgba(60, 64, 67, 0.3), 0px 1px 3px 1px rgba(60, 64, 67, 0.15);\n",
              "      fill: #174EA6;\n",
              "    }\n",
              "\n",
              "    [theme=dark] .colab-df-convert {\n",
              "      background-color: #3B4455;\n",
              "      fill: #D2E3FC;\n",
              "    }\n",
              "\n",
              "    [theme=dark] .colab-df-convert:hover {\n",
              "      background-color: #434B5C;\n",
              "      box-shadow: 0px 1px 3px 1px rgba(0, 0, 0, 0.15);\n",
              "      filter: drop-shadow(0px 1px 2px rgba(0, 0, 0, 0.3));\n",
              "      fill: #FFFFFF;\n",
              "    }\n",
              "  </style>\n",
              "\n",
              "      <script>\n",
              "        const buttonEl =\n",
              "          document.querySelector('#df-1f39480a-d233-4eb9-a8fb-e77721a6ccf0 button.colab-df-convert');\n",
              "        buttonEl.style.display =\n",
              "          google.colab.kernel.accessAllowed ? 'block' : 'none';\n",
              "\n",
              "        async function convertToInteractive(key) {\n",
              "          const element = document.querySelector('#df-1f39480a-d233-4eb9-a8fb-e77721a6ccf0');\n",
              "          const dataTable =\n",
              "            await google.colab.kernel.invokeFunction('convertToInteractive',\n",
              "                                                     [key], {});\n",
              "          if (!dataTable) return;\n",
              "\n",
              "          const docLinkHtml = 'Like what you see? Visit the ' +\n",
              "            '<a target=\"_blank\" href=https://colab.research.google.com/notebooks/data_table.ipynb>data table notebook</a>'\n",
              "            + ' to learn more about interactive tables.';\n",
              "          element.innerHTML = '';\n",
              "          dataTable['output_type'] = 'display_data';\n",
              "          await google.colab.output.renderOutput(dataTable, element);\n",
              "          const docLink = document.createElement('div');\n",
              "          docLink.innerHTML = docLinkHtml;\n",
              "          element.appendChild(docLink);\n",
              "        }\n",
              "      </script>\n",
              "    </div>\n",
              "  </div>\n",
              "  "
            ]
          },
          "metadata": {},
          "execution_count": 39
        }
      ]
    },
    {
      "cell_type": "code",
      "source": [
        "df.isnull().sum()"
      ],
      "metadata": {
        "colab": {
          "base_uri": "https://localhost:8080/"
        },
        "id": "hAjx8BNtgsWx",
        "outputId": "4becf8ea-7d9f-4b3a-c6d8-51632610b781"
      },
      "execution_count": 40,
      "outputs": [
        {
          "output_type": "execute_result",
          "data": {
            "text/plain": [
              "age               0\n",
              "workclass         0\n",
              "fnlwgt            0\n",
              "education         0\n",
              "education-num     0\n",
              "marital-status    0\n",
              "occupation        0\n",
              "relationship      0\n",
              "race              0\n",
              "sex               0\n",
              "capital-gain      0\n",
              "capital-loss      0\n",
              "hours-per-week    0\n",
              "country           0\n",
              "salary            0\n",
              "dtype: int64"
            ]
          },
          "metadata": {},
          "execution_count": 40
        }
      ]
    },
    {
      "cell_type": "code",
      "source": [
        "df.info()"
      ],
      "metadata": {
        "colab": {
          "base_uri": "https://localhost:8080/"
        },
        "id": "-1cK5JmAgtzo",
        "outputId": "7db9b864-b8e9-4f9d-ffc9-b4cf6adc13b5"
      },
      "execution_count": 41,
      "outputs": [
        {
          "output_type": "stream",
          "name": "stdout",
          "text": [
            "<class 'pandas.core.frame.DataFrame'>\n",
            "RangeIndex: 32561 entries, 0 to 32560\n",
            "Data columns (total 15 columns):\n",
            " #   Column          Non-Null Count  Dtype \n",
            "---  ------          --------------  ----- \n",
            " 0   age             32561 non-null  int64 \n",
            " 1   workclass       32561 non-null  object\n",
            " 2   fnlwgt          32561 non-null  int64 \n",
            " 3   education       32561 non-null  object\n",
            " 4   education-num   32561 non-null  int64 \n",
            " 5   marital-status  32561 non-null  object\n",
            " 6   occupation      32561 non-null  object\n",
            " 7   relationship    32561 non-null  object\n",
            " 8   race            32561 non-null  object\n",
            " 9   sex             32561 non-null  object\n",
            " 10  capital-gain    32561 non-null  int64 \n",
            " 11  capital-loss    32561 non-null  int64 \n",
            " 12  hours-per-week  32561 non-null  int64 \n",
            " 13  country         32561 non-null  object\n",
            " 14  salary          32561 non-null  object\n",
            "dtypes: int64(6), object(9)\n",
            "memory usage: 3.7+ MB\n"
          ]
        }
      ]
    },
    {
      "cell_type": "markdown",
      "source": [
        "#### No null values found"
      ],
      "metadata": {
        "id": "KgtpHi4Yg0lD"
      }
    },
    {
      "cell_type": "code",
      "source": [
        "(df['salary'].value_counts()/len(df))*100"
      ],
      "metadata": {
        "colab": {
          "base_uri": "https://localhost:8080/"
        },
        "id": "8edrvdi4gzRw",
        "outputId": "aea442f3-f719-4ce6-e427-e4393a7a8204"
      },
      "execution_count": 42,
      "outputs": [
        {
          "output_type": "execute_result",
          "data": {
            "text/plain": [
              " <=50K    75.919044\n",
              " >50K     24.080956\n",
              "Name: salary, dtype: float64"
            ]
          },
          "metadata": {},
          "execution_count": 42
        }
      ]
    },
    {
      "cell_type": "markdown",
      "source": [
        "#### Here we can see there is a massive imbalance of data with 76% belonging to lower than 50K earning and 24% earning above 50K"
      ],
      "metadata": {
        "id": "NKkJ0WtQg4qC"
      }
    },
    {
      "cell_type": "markdown",
      "source": [
        "# Visualization"
      ],
      "metadata": {
        "id": "M92b7osJhBNY"
      }
    },
    {
      "cell_type": "markdown",
      "source": [
        "### Education salary distribution"
      ],
      "metadata": {
        "id": "p72zxeuNhEPI"
      }
    },
    {
      "cell_type": "code",
      "source": [
        "plt.figure(figsize=(20, 10))\n",
        "sns.countplot(x=df['education'], hue = df['salary'])"
      ],
      "metadata": {
        "colab": {
          "base_uri": "https://localhost:8080/",
          "height": 624
        },
        "id": "gBq9YFG4hCXR",
        "outputId": "fa3cc252-bdb7-41f5-ef64-d91ffd0d748f"
      },
      "execution_count": 43,
      "outputs": [
        {
          "output_type": "execute_result",
          "data": {
            "text/plain": [
              "<matplotlib.axes._subplots.AxesSubplot at 0x7fe6978a0280>"
            ]
          },
          "metadata": {},
          "execution_count": 43
        },
        {
          "output_type": "display_data",
          "data": {
            "text/plain": [
              "<Figure size 1440x720 with 1 Axes>"
            ],
            "image/png": "[encoded data removed]"
          },
          "metadata": {
            "needs_background": "light"
          }
        }
      ]
    },
    {
      "cell_type": "markdown",
      "source": [
        "### Race Distribution"
      ],
      "metadata": {
        "id": "rkYQbJgjhITo"
      }
    },
    {
      "cell_type": "code",
      "source": [
        "plt.figure(figsize=(14, 5))\n",
        "sns.countplot(x=df['race'], hue = df['salary'])"
      ],
      "metadata": {
        "colab": {
          "base_uri": "https://localhost:8080/",
          "height": 352
        },
        "id": "uXAGecnNhF0s",
        "outputId": "ac0133e7-6260-4519-eaab-11f01b6c5834"
      },
      "execution_count": 44,
      "outputs": [
        {
          "output_type": "execute_result",
          "data": {
            "text/plain": [
              "<matplotlib.axes._subplots.AxesSubplot at 0x7fe6977ea850>"
            ]
          },
          "metadata": {},
          "execution_count": 44
        },
        {
          "output_type": "display_data",
          "data": {
            "text/plain": [
              "<Figure size 1008x360 with 1 Axes>"
            ],
            "image/png": "[encoded data removed]"
          },
          "metadata": {
            "needs_background": "light"
          }
        }
      ]
    },
    {
      "cell_type": "markdown",
      "source": [
        "### Gender Distribution"
      ],
      "metadata": {
        "id": "UcqZh2hZhLO4"
      }
    },
    {
      "cell_type": "code",
      "source": [
        "plt.figure(figsize=(14, 5))\n",
        "sns.countplot(x=df['sex'], hue = df['salary'])"
      ],
      "metadata": {
        "colab": {
          "base_uri": "https://localhost:8080/",
          "height": 352
        },
        "id": "OAXx3PNyhKoA",
        "outputId": "07e6c105-9232-484c-c819-bad300de00e9"
      },
      "execution_count": 45,
      "outputs": [
        {
          "output_type": "execute_result",
          "data": {
            "text/plain": [
              "<matplotlib.axes._subplots.AxesSubplot at 0x7fe6977c0d30>"
            ]
          },
          "metadata": {},
          "execution_count": 45
        },
        {
          "output_type": "display_data",
          "data": {
            "text/plain": [
              "<Figure size 1008x360 with 1 Axes>"
            ],
            "image/png": "[encoded data removed]"
          },
          "metadata": {
            "needs_background": "light"
          }
        }
      ]
    },
    {
      "cell_type": "markdown",
      "source": [
        "### Marital staus"
      ],
      "metadata": {
        "id": "1UPFWe3ghQDI"
      }
    },
    {
      "cell_type": "code",
      "source": [
        "sns.barplot(df[\"marital-status\"].value_counts().values, df[\"marital-status\"].value_counts().index)"
      ],
      "metadata": {
        "colab": {
          "base_uri": "https://localhost:8080/",
          "height": 339
        },
        "id": "OdksQZwHhPZo",
        "outputId": "b3f10d97-b8ed-4b83-c467-f68d9a535474"
      },
      "execution_count": 46,
      "outputs": [
        {
          "output_type": "stream",
          "name": "stderr",
          "text": [
            "/usr/local/lib/python3.8/dist-packages/seaborn/_decorators.py:36: FutureWarning: Pass the following variables as keyword args: x, y. From version 0.12, the only valid positional argument will be `data`, and passing other arguments without an explicit keyword will result in an error or misinterpretation.\n",
            "  warnings.warn(\n"
          ]
        },
        {
          "output_type": "execute_result",
          "data": {
            "text/plain": [
              "<matplotlib.axes._subplots.AxesSubplot at 0x7fe6977417c0>"
            ]
          },
          "metadata": {},
          "execution_count": 46
        },
        {
          "output_type": "display_data",
          "data": {
            "text/plain": [
              "<Figure size 432x288 with 1 Axes>"
            ],
            "image/png": "[encoded data removed]"
          },
          "metadata": {
            "needs_background": "light"
          }
        }
      ]
    },
    {
      "cell_type": "code",
      "source": [
        "plt.figure(figsize=(14, 5))\n",
        "sns.countplot(x=df['marital-status'], hue = df['salary'])"
      ],
      "metadata": {
        "colab": {
          "base_uri": "https://localhost:8080/",
          "height": 352
        },
        "id": "JYLXRxnqhSfZ",
        "outputId": "a469ba43-6ddb-4de7-f1d3-956b260ad89a"
      },
      "execution_count": 47,
      "outputs": [
        {
          "output_type": "execute_result",
          "data": {
            "text/plain": [
              "<matplotlib.axes._subplots.AxesSubplot at 0x7fe697801be0>"
            ]
          },
          "metadata": {},
          "execution_count": 47
        },
        {
          "output_type": "display_data",
          "data": {
            "text/plain": [
              "<Figure size 1008x360 with 1 Axes>"
            ],
            "image/png": "[encoded data removed]"
          },
          "metadata": {
            "needs_background": "light"
          }
        }
      ]
    },
    {
      "cell_type": "markdown",
      "source": [
        "### Age distribution"
      ],
      "metadata": {
        "id": "UiAlItT_hZZw"
      }
    },
    {
      "cell_type": "code",
      "source": [
        "sns.distplot(df['age'])\n",
        "plt.ylabel('Count')"
      ],
      "metadata": {
        "colab": {
          "base_uri": "https://localhost:8080/",
          "height": 353
        },
        "id": "_MXb9PehhZ85",
        "outputId": "580cc2a3-0141-450e-a4e7-d7490455f819"
      },
      "execution_count": 48,
      "outputs": [
        {
          "output_type": "stream",
          "name": "stderr",
          "text": [
            "/usr/local/lib/python3.8/dist-packages/seaborn/distributions.py:2619: FutureWarning: `distplot` is a deprecated function and will be removed in a future version. Please adapt your code to use either `displot` (a figure-level function with similar flexibility) or `histplot` (an axes-level function for histograms).\n",
            "  warnings.warn(msg, FutureWarning)\n"
          ]
        },
        {
          "output_type": "execute_result",
          "data": {
            "text/plain": [
              "Text(0, 0.5, 'Count')"
            ]
          },
          "metadata": {},
          "execution_count": 48
        },
        {
          "output_type": "display_data",
          "data": {
            "text/plain": [
              "<Figure size 432x288 with 1 Axes>"
            ],
            "image/png": "[encoded data removed]"
          },
          "metadata": {
            "needs_background": "light"
          }
        }
      ]
    },
    {
      "cell_type": "markdown",
      "source": [
        "### Income across age"
      ],
      "metadata": {
        "id": "FHHJK-tuhceC"
      }
    },
    {
      "cell_type": "code",
      "source": [
        "plt.figure(figsize=(25,14))\n",
        "sns.countplot(x = df['age'], hue=df['salary'])"
      ],
      "metadata": {
        "colab": {
          "base_uri": "https://localhost:8080/",
          "height": 822
        },
        "id": "cUtroFfVhbyw",
        "outputId": "51120fc4-b4f6-4fbb-a2db-c9fdbde00999"
      },
      "execution_count": 49,
      "outputs": [
        {
          "output_type": "execute_result",
          "data": {
            "text/plain": [
              "<matplotlib.axes._subplots.AxesSubplot at 0x7fe695538580>"
            ]
          },
          "metadata": {},
          "execution_count": 49
        },
        {
          "output_type": "display_data",
          "data": {
            "text/plain": [
              "<Figure size 1800x1008 with 1 Axes>"
            ],
            "image/png": "[encoded data removed]"
          },
          "metadata": {
            "needs_background": "light"
          }
        }
      ]
    },
    {
      "cell_type": "markdown",
      "source": [
        "#### People aged below 17-35 who are starting their career draw a salary of less than 50K and people in ages between 35-45 are more likely to earn above 50K"
      ],
      "metadata": {
        "id": "xUveMQ-6hhCp"
      }
    },
    {
      "cell_type": "markdown",
      "source": [
        "### Salary across occupation"
      ],
      "metadata": {
        "id": "uSwJYYGkho_K"
      }
    },
    {
      "cell_type": "code",
      "source": [
        "sns.barplot(df['occupation'].value_counts().values, df['occupation'].value_counts().index)"
      ],
      "metadata": {
        "colab": {
          "base_uri": "https://localhost:8080/",
          "height": 339
        },
        "id": "4pIgElQ0hgX4",
        "outputId": "316c1072-430e-4967-8c21-4dcc8e0bd00e"
      },
      "execution_count": 50,
      "outputs": [
        {
          "output_type": "stream",
          "name": "stderr",
          "text": [
            "/usr/local/lib/python3.8/dist-packages/seaborn/_decorators.py:36: FutureWarning: Pass the following variables as keyword args: x, y. From version 0.12, the only valid positional argument will be `data`, and passing other arguments without an explicit keyword will result in an error or misinterpretation.\n",
            "  warnings.warn(\n"
          ]
        },
        {
          "output_type": "execute_result",
          "data": {
            "text/plain": [
              "<matplotlib.axes._subplots.AxesSubplot at 0x7fe6952f95e0>"
            ]
          },
          "metadata": {},
          "execution_count": 50
        },
        {
          "output_type": "display_data",
          "data": {
            "text/plain": [
              "<Figure size 432x288 with 1 Axes>"
            ],
            "image/png": "[encoded data removed]"
          },
          "metadata": {
            "needs_background": "light"
          }
        }
      ]
    },
    {
      "cell_type": "code",
      "source": [
        "plt.figure(figsize=(25, 7))\n",
        "sns.countplot(x = df['occupation'], hue = df['salary'])"
      ],
      "metadata": {
        "colab": {
          "base_uri": "https://localhost:8080/",
          "height": 448
        },
        "id": "R1D9TQ9khoYx",
        "outputId": "1edc5835-daa0-4e88-8117-aad5e309e111"
      },
      "execution_count": 51,
      "outputs": [
        {
          "output_type": "execute_result",
          "data": {
            "text/plain": [
              "<matplotlib.axes._subplots.AxesSubplot at 0x7fe6952383a0>"
            ]
          },
          "metadata": {},
          "execution_count": 51
        },
        {
          "output_type": "display_data",
          "data": {
            "text/plain": [
              "<Figure size 1800x504 with 1 Axes>"
            ],
            "image/png": "[encoded data removed]"
          },
          "metadata": {
            "needs_background": "light"
          }
        }
      ]
    },
    {
      "cell_type": "code",
      "source": [
        "sns.distplot(df['hours-per-week'])"
      ],
      "metadata": {
        "colab": {
          "base_uri": "https://localhost:8080/",
          "height": 356
        },
        "id": "F3UR1YvRhsgh",
        "outputId": "884464a5-8bd8-4f5f-8d1d-ebd9964ccf94"
      },
      "execution_count": 52,
      "outputs": [
        {
          "output_type": "stream",
          "name": "stderr",
          "text": [
            "/usr/local/lib/python3.8/dist-packages/seaborn/distributions.py:2619: FutureWarning: `distplot` is a deprecated function and will be removed in a future version. Please adapt your code to use either `displot` (a figure-level function with similar flexibility) or `histplot` (an axes-level function for histograms).\n",
            "  warnings.warn(msg, FutureWarning)\n"
          ]
        },
        {
          "output_type": "execute_result",
          "data": {
            "text/plain": [
              "<matplotlib.axes._subplots.AxesSubplot at 0x7fe695152b20>"
            ]
          },
          "metadata": {},
          "execution_count": 52
        },
        {
          "output_type": "display_data",
          "data": {
            "text/plain": [
              "<Figure size 432x288 with 1 Axes>"
            ],
            "image/png": "[encoded data removed]"
          },
          "metadata": {
            "needs_background": "light"
          }
        }
      ]
    },
    {
      "cell_type": "markdown",
      "source": [
        "#### 40 hours per week is average"
      ],
      "metadata": {
        "id": "xKmobnvQhvT6"
      }
    },
    {
      "cell_type": "markdown",
      "source": [
        "### Relationship"
      ],
      "metadata": {
        "id": "oDbkFELBhxOB"
      }
    },
    {
      "cell_type": "code",
      "source": [
        "rel_values = df['relationship'].value_counts()\n",
        "rel_values"
      ],
      "metadata": {
        "colab": {
          "base_uri": "https://localhost:8080/"
        },
        "id": "uCZ58QCrht2p",
        "outputId": "906d8f39-50ce-4477-cda6-11840a7ab536"
      },
      "execution_count": 53,
      "outputs": [
        {
          "output_type": "execute_result",
          "data": {
            "text/plain": [
              " Husband           13193\n",
              " Not-in-family      8305\n",
              " Own-child          5068\n",
              " Unmarried          3446\n",
              " Wife               1568\n",
              " Other-relative      981\n",
              "Name: relationship, dtype: int64"
            ]
          },
          "metadata": {},
          "execution_count": 53
        }
      ]
    },
    {
      "cell_type": "code",
      "source": [
        "sns.barplot(rel_values.values, rel_values.index)"
      ],
      "metadata": {
        "colab": {
          "base_uri": "https://localhost:8080/",
          "height": 339
        },
        "id": "J_9-MddOhyUw",
        "outputId": "c745d746-8202-4129-8667-03f69f44cac0"
      },
      "execution_count": 54,
      "outputs": [
        {
          "output_type": "stream",
          "name": "stderr",
          "text": [
            "/usr/local/lib/python3.8/dist-packages/seaborn/_decorators.py:36: FutureWarning: Pass the following variables as keyword args: x, y. From version 0.12, the only valid positional argument will be `data`, and passing other arguments without an explicit keyword will result in an error or misinterpretation.\n",
            "  warnings.warn(\n"
          ]
        },
        {
          "output_type": "execute_result",
          "data": {
            "text/plain": [
              "<matplotlib.axes._subplots.AxesSubplot at 0x7fe69504ed90>"
            ]
          },
          "metadata": {},
          "execution_count": 54
        },
        {
          "output_type": "display_data",
          "data": {
            "text/plain": [
              "<Figure size 432x288 with 1 Axes>"
            ],
            "image/png": "[encoded data removed]"
          },
          "metadata": {
            "needs_background": "light"
          }
        }
      ]
    },
    {
      "cell_type": "code",
      "source": [
        "plt.figure(figsize=(10,5))\n",
        "sns.countplot(x= df['relationship'], hue = df['salary'])"
      ],
      "metadata": {
        "colab": {
          "base_uri": "https://localhost:8080/",
          "height": 352
        },
        "id": "gnDBHTAvhztI",
        "outputId": "7af0c93a-33ce-45c9-dcc1-d3fb2cf6ed82"
      },
      "execution_count": 55,
      "outputs": [
        {
          "output_type": "execute_result",
          "data": {
            "text/plain": [
              "<matplotlib.axes._subplots.AxesSubplot at 0x7fe69503e520>"
            ]
          },
          "metadata": {},
          "execution_count": 55
        },
        {
          "output_type": "display_data",
          "data": {
            "text/plain": [
              "<Figure size 720x360 with 1 Axes>"
            ],
            "image/png": "[encoded data removed]"
          },
          "metadata": {
            "needs_background": "light"
          }
        }
      ]
    },
    {
      "cell_type": "markdown",
      "source": [
        "### Workclass"
      ],
      "metadata": {
        "id": "15kn17_th2Qh"
      }
    },
    {
      "cell_type": "code",
      "source": [
        "workclass = df['workclass'].value_counts()"
      ],
      "metadata": {
        "id": "HqfoIbXVh8RZ"
      },
      "execution_count": 56,
      "outputs": []
    },
    {
      "cell_type": "code",
      "source": [
        "sns.barplot(workclass.values, workclass.index)"
      ],
      "metadata": {
        "colab": {
          "base_uri": "https://localhost:8080/",
          "height": 339
        },
        "id": "WrPIOjogh0tq",
        "outputId": "5b078526-dbb1-479e-b02b-4f5794f8f7bf"
      },
      "execution_count": 57,
      "outputs": [
        {
          "output_type": "stream",
          "name": "stderr",
          "text": [
            "/usr/local/lib/python3.8/dist-packages/seaborn/_decorators.py:36: FutureWarning: Pass the following variables as keyword args: x, y. From version 0.12, the only valid positional argument will be `data`, and passing other arguments without an explicit keyword will result in an error or misinterpretation.\n",
            "  warnings.warn(\n"
          ]
        },
        {
          "output_type": "execute_result",
          "data": {
            "text/plain": [
              "<matplotlib.axes._subplots.AxesSubplot at 0x7fe694fe2d60>"
            ]
          },
          "metadata": {},
          "execution_count": 57
        },
        {
          "output_type": "display_data",
          "data": {
            "text/plain": [
              "<Figure size 432x288 with 1 Axes>"
            ],
            "image/png": "[encoded data removed]"
          },
          "metadata": {
            "needs_background": "light"
          }
        }
      ]
    },
    {
      "cell_type": "code",
      "source": [
        "plt.figure(figsize=(10,5))\n",
        "sns.countplot(df['workclass'], hue = df['salary'])"
      ],
      "metadata": {
        "colab": {
          "base_uri": "https://localhost:8080/",
          "height": 408
        },
        "id": "dPnJdxtyh3rC",
        "outputId": "b0dbbb54-df2f-4f1d-a293-ca446650c852"
      },
      "execution_count": 58,
      "outputs": [
        {
          "output_type": "stream",
          "name": "stderr",
          "text": [
            "/usr/local/lib/python3.8/dist-packages/seaborn/_decorators.py:36: FutureWarning: Pass the following variable as a keyword arg: x. From version 0.12, the only valid positional argument will be `data`, and passing other arguments without an explicit keyword will result in an error or misinterpretation.\n",
            "  warnings.warn(\n"
          ]
        },
        {
          "output_type": "execute_result",
          "data": {
            "text/plain": [
              "<matplotlib.axes._subplots.AxesSubplot at 0x7fe695152be0>"
            ]
          },
          "metadata": {},
          "execution_count": 58
        },
        {
          "output_type": "display_data",
          "data": {
            "text/plain": [
              "<Figure size 720x360 with 1 Axes>"
            ],
            "image/png": "[encoded data removed]"
          },
          "metadata": {
            "needs_background": "light"
          }
        }
      ]
    },
    {
      "cell_type": "markdown",
      "source": [
        "## Working on incorrect data"
      ],
      "metadata": {
        "id": "1vcd_E_TiCuC"
      }
    },
    {
      "cell_type": "markdown",
      "source": [
        "#### Observed some values like '?' in dataset as seen in occupation,  workclass visualization"
      ],
      "metadata": {
        "id": "19yd9XOYiFfR"
      }
    },
    {
      "cell_type": "code",
      "source": [
        "df['workclass'].value_counts()"
      ],
      "metadata": {
        "colab": {
          "base_uri": "https://localhost:8080/"
        },
        "id": "hBm5Q1Lch6jx",
        "outputId": "fbf99d2c-ce0d-484f-c05a-3b7410e0e49d"
      },
      "execution_count": 59,
      "outputs": [
        {
          "output_type": "execute_result",
          "data": {
            "text/plain": [
              " Private             22696\n",
              " Self-emp-not-inc     2541\n",
              " Local-gov            2093\n",
              " ?                    1836\n",
              " State-gov            1298\n",
              " Self-emp-inc         1116\n",
              " Federal-gov           960\n",
              " Without-pay            14\n",
              " Never-worked            7\n",
              "Name: workclass, dtype: int64"
            ]
          },
          "metadata": {},
          "execution_count": 59
        }
      ]
    },
    {
      "cell_type": "code",
      "source": [
        "df['occupation'].value_counts()"
      ],
      "metadata": {
        "colab": {
          "base_uri": "https://localhost:8080/"
        },
        "id": "Ai3aXpZDiHOo",
        "outputId": "62a16bf5-ae25-441b-b90f-bc0d88280a7f"
      },
      "execution_count": 60,
      "outputs": [
        {
          "output_type": "execute_result",
          "data": {
            "text/plain": [
              " Prof-specialty       4140\n",
              " Craft-repair         4099\n",
              " Exec-managerial      4066\n",
              " Adm-clerical         3770\n",
              " Sales                3650\n",
              " Other-service        3295\n",
              " Machine-op-inspct    2002\n",
              " ?                    1843\n",
              " Transport-moving     1597\n",
              " Handlers-cleaners    1370\n",
              " Farming-fishing       994\n",
              " Tech-support          928\n",
              " Protective-serv       649\n",
              " Priv-house-serv       149\n",
              " Armed-Forces            9\n",
              "Name: occupation, dtype: int64"
            ]
          },
          "metadata": {},
          "execution_count": 60
        }
      ]
    },
    {
      "cell_type": "markdown",
      "source": [
        "## Replacing '?' with null"
      ],
      "metadata": {
        "id": "RDhvagSiiK8L"
      }
    },
    {
      "cell_type": "code",
      "source": [
        "df['workclass'] = df['workclass'].replace('?',np.nan)\n",
        "df['occupation'] = df['occupation'].replace('?',np.nan)"
      ],
      "metadata": {
        "id": "lMMbIO3_iIeY"
      },
      "execution_count": 61,
      "outputs": []
    },
    {
      "cell_type": "code",
      "source": [
        "df.isnull().sum()"
      ],
      "metadata": {
        "colab": {
          "base_uri": "https://localhost:8080/"
        },
        "id": "czKoL29ZiMk4",
        "outputId": "ef811601-d113-4ca5-fa30-e99c26d526ce"
      },
      "execution_count": 62,
      "outputs": [
        {
          "output_type": "execute_result",
          "data": {
            "text/plain": [
              "age               0\n",
              "workclass         0\n",
              "fnlwgt            0\n",
              "education         0\n",
              "education-num     0\n",
              "marital-status    0\n",
              "occupation        0\n",
              "relationship      0\n",
              "race              0\n",
              "sex               0\n",
              "capital-gain      0\n",
              "capital-loss      0\n",
              "hours-per-week    0\n",
              "country           0\n",
              "salary            0\n",
              "dtype: int64"
            ]
          },
          "metadata": {},
          "execution_count": 62
        }
      ]
    },
    {
      "cell_type": "code",
      "source": [
        "df[df['workclass'] == '?']"
      ],
      "metadata": {
        "colab": {
          "base_uri": "https://localhost:8080/",
          "height": 49
        },
        "id": "0jGd0FMZiNzp",
        "outputId": "67dfdba6-05aa-49b4-b728-88fcafde2c52"
      },
      "execution_count": 63,
      "outputs": [
        {
          "output_type": "execute_result",
          "data": {
            "text/plain": [
              "Empty DataFrame\n",
              "Columns: [age, workclass, fnlwgt, education, education-num, marital-status, occupation, relationship, race, sex, capital-gain, capital-loss, hours-per-week, country, salary]\n",
              "Index: []"
            ],
            "text/html": [
              "\n",
              "  <div id=\"df-886576fd-c2d1-4d35-92a3-d02a8053d1c7\">\n",
              "    <div class=\"colab-df-container\">\n",
              "      <div>\n",
              "<style scoped>\n",
              "    .dataframe tbody tr th:only-of-type {\n",
              "        vertical-align: middle;\n",
              "    }\n",
              "\n",
              "    .dataframe tbody tr th {\n",
              "        vertical-align: top;\n",
              "    }\n",
              "\n",
              "    .dataframe thead th {\n",
              "        text-align: right;\n",
              "    }\n",
              "</style>\n",
              "<table border=\"1\" class=\"dataframe\">\n",
              "  <thead>\n",
              "    <tr style=\"text-align: right;\">\n",
              "      <th></th>\n",
              "      <th>age</th>\n",
              "      <th>workclass</th>\n",
              "      <th>fnlwgt</th>\n",
              "      <th>education</th>\n",
              "      <th>education-num</th>\n",
              "      <th>marital-status</th>\n",
              "      <th>occupation</th>\n",
              "      <th>relationship</th>\n",
              "      <th>race</th>\n",
              "      <th>sex</th>\n",
              "      <th>capital-gain</th>\n",
              "      <th>capital-loss</th>\n",
              "      <th>hours-per-week</th>\n",
              "      <th>country</th>\n",
              "      <th>salary</th>\n",
              "    </tr>\n",
              "  </thead>\n",
              "  <tbody>\n",
              "  </tbody>\n",
              "</table>\n",
              "</div>\n",
              "      <button class=\"colab-df-convert\" onclick=\"convertToInteractive('df-886576fd-c2d1-4d35-92a3-d02a8053d1c7')\"\n",
              "              title=\"Convert this dataframe to an interactive table.\"\n",
              "              style=\"display:none;\">\n",
              "        \n",
              "  <svg xmlns=\"http://www.w3.org/2000/svg\" height=\"24px\"viewBox=\"0 0 24 24\"\n",
              "       width=\"24px\">\n",
              "    <path d=\"M0 0h24v24H0V0z\" fill=\"none\"/>\n",
              "    <path d=\"M18.56 5.44l.94 2.06.94-2.06 2.06-.94-2.06-.94-.94-2.06-.94 2.06-2.06.94zm-11 1L8.5 8.5l.94-2.06 2.06-.94-2.06-.94L8.5 2.5l-.94 2.06-2.06.94zm10 10l.94 2.06.94-2.06 2.06-.94-2.06-.94-.94-2.06-.94 2.06-2.06.94z\"/><path d=\"M17.41 7.96l-1.37-1.37c-.4-.4-.92-.59-1.43-.59-.52 0-1.04.2-1.43.59L10.3 9.45l-7.72 7.72c-.78.78-.78 2.05 0 2.83L4 21.41c.39.39.9.59 1.41.59.51 0 1.02-.2 1.41-.59l7.78-7.78 2.81-2.81c.8-.78.8-2.07 0-2.86zM5.41 20L4 18.59l7.72-7.72 1.47 1.35L5.41 20z\"/>\n",
              "  </svg>\n",
              "      </button>\n",
              "      \n",
              "  <style>\n",
              "    .colab-df-container {\n",
              "      display:flex;\n",
              "      flex-wrap:wrap;\n",
              "      gap: 12px;\n",
              "    }\n",
              "\n",
              "    .colab-df-convert {\n",
              "      background-color: #E8F0FE;\n",
              "      border: none;\n",
              "      border-radius: 50%;\n",
              "      cursor: pointer;\n",
              "      display: none;\n",
              "      fill: #1967D2;\n",
              "      height: 32px;\n",
              "      padding: 0 0 0 0;\n",
              "      width: 32px;\n",
              "    }\n",
              "\n",
              "    .colab-df-convert:hover {\n",
              "      background-color: #E2EBFA;\n",
              "      box-shadow: 0px 1px 2px rgba(60, 64, 67, 0.3), 0px 1px 3px 1px rgba(60, 64, 67, 0.15);\n",
              "      fill: #174EA6;\n",
              "    }\n",
              "\n",
              "    [theme=dark] .colab-df-convert {\n",
              "      background-color: #3B4455;\n",
              "      fill: #D2E3FC;\n",
              "    }\n",
              "\n",
              "    [theme=dark] .colab-df-convert:hover {\n",
              "      background-color: #434B5C;\n",
              "      box-shadow: 0px 1px 3px 1px rgba(0, 0, 0, 0.15);\n",
              "      filter: drop-shadow(0px 1px 2px rgba(0, 0, 0, 0.3));\n",
              "      fill: #FFFFFF;\n",
              "    }\n",
              "  </style>\n",
              "\n",
              "      <script>\n",
              "        const buttonEl =\n",
              "          document.querySelector('#df-886576fd-c2d1-4d35-92a3-d02a8053d1c7 button.colab-df-convert');\n",
              "        buttonEl.style.display =\n",
              "          google.colab.kernel.accessAllowed ? 'block' : 'none';\n",
              "\n",
              "        async function convertToInteractive(key) {\n",
              "          const element = document.querySelector('#df-886576fd-c2d1-4d35-92a3-d02a8053d1c7');\n",
              "          const dataTable =\n",
              "            await google.colab.kernel.invokeFunction('convertToInteractive',\n",
              "                                                     [key], {});\n",
              "          if (!dataTable) return;\n",
              "\n",
              "          const docLinkHtml = 'Like what you see? Visit the ' +\n",
              "            '<a target=\"_blank\" href=https://colab.research.google.com/notebooks/data_table.ipynb>data table notebook</a>'\n",
              "            + ' to learn more about interactive tables.';\n",
              "          element.innerHTML = '';\n",
              "          dataTable['output_type'] = 'display_data';\n",
              "          await google.colab.output.renderOutput(dataTable, element);\n",
              "          const docLink = document.createElement('div');\n",
              "          docLink.innerHTML = docLinkHtml;\n",
              "          element.appendChild(docLink);\n",
              "        }\n",
              "      </script>\n",
              "    </div>\n",
              "  </div>\n",
              "  "
            ]
          },
          "metadata": {},
          "execution_count": 63
        }
      ]
    },
    {
      "cell_type": "code",
      "source": [
        "df['workclass'].value_counts()"
      ],
      "metadata": {
        "colab": {
          "base_uri": "https://localhost:8080/"
        },
        "id": "nuwnq6Y9iPf_",
        "outputId": "f4257071-b340-44e2-9759-64b6acb4dec0"
      },
      "execution_count": 64,
      "outputs": [
        {
          "output_type": "execute_result",
          "data": {
            "text/plain": [
              " Private             22696\n",
              " Self-emp-not-inc     2541\n",
              " Local-gov            2093\n",
              " ?                    1836\n",
              " State-gov            1298\n",
              " Self-emp-inc         1116\n",
              " Federal-gov           960\n",
              " Without-pay            14\n",
              " Never-worked            7\n",
              "Name: workclass, dtype: int64"
            ]
          },
          "metadata": {},
          "execution_count": 64
        }
      ]
    },
    {
      "cell_type": "code",
      "source": [
        "ls = []\n",
        "for i in df['workclass'].value_counts().index:\n",
        "    ls.append(i)\n",
        "\n",
        "ls"
      ],
      "metadata": {
        "colab": {
          "base_uri": "https://localhost:8080/"
        },
        "id": "fmz2eDX4iRSo",
        "outputId": "63d03489-d36a-413e-8e75-a6c91e379688"
      },
      "execution_count": 65,
      "outputs": [
        {
          "output_type": "execute_result",
          "data": {
            "text/plain": [
              "[' Private',\n",
              " ' Self-emp-not-inc',\n",
              " ' Local-gov',\n",
              " ' ?',\n",
              " ' State-gov',\n",
              " ' Self-emp-inc',\n",
              " ' Federal-gov',\n",
              " ' Without-pay',\n",
              " ' Never-worked']"
            ]
          },
          "metadata": {},
          "execution_count": 65
        }
      ]
    },
    {
      "cell_type": "code",
      "source": [
        "df = df.replace(' ?', np.nan)"
      ],
      "metadata": {
        "id": "x_aHmNVCiTlY"
      },
      "execution_count": 66,
      "outputs": []
    },
    {
      "cell_type": "code",
      "source": [
        "df.isnull().sum()"
      ],
      "metadata": {
        "colab": {
          "base_uri": "https://localhost:8080/"
        },
        "id": "STxIgiKyicSQ",
        "outputId": "7aa30b4a-1558-462e-a6e7-2925a282ab3a"
      },
      "execution_count": 67,
      "outputs": [
        {
          "output_type": "execute_result",
          "data": {
            "text/plain": [
              "age                  0\n",
              "workclass         1836\n",
              "fnlwgt               0\n",
              "education            0\n",
              "education-num        0\n",
              "marital-status       0\n",
              "occupation        1843\n",
              "relationship         0\n",
              "race                 0\n",
              "sex                  0\n",
              "capital-gain         0\n",
              "capital-loss         0\n",
              "hours-per-week       0\n",
              "country            583\n",
              "salary               0\n",
              "dtype: int64"
            ]
          },
          "metadata": {},
          "execution_count": 67
        }
      ]
    },
    {
      "cell_type": "code",
      "source": [
        "df['workclass'] = df['workclass'].fillna(df['workclass'].mode()[0])\n",
        "df['occupation'] = df['occupation'].fillna(df['occupation'].mode()[0])\n",
        "df['country'] = df['country'].fillna(df['country'].mode()[0])"
      ],
      "metadata": {
        "id": "5cX4pTtYiyNY"
      },
      "execution_count": 75,
      "outputs": []
    },
    {
      "cell_type": "code",
      "source": [
        "df.isnull().sum()"
      ],
      "metadata": {
        "colab": {
          "base_uri": "https://localhost:8080/"
        },
        "id": "8HZ3ZNmnjTHA",
        "outputId": "28d6eba3-00b2-4eb8-d109-0653781e669b"
      },
      "execution_count": 76,
      "outputs": [
        {
          "output_type": "execute_result",
          "data": {
            "text/plain": [
              "age               0\n",
              "workclass         0\n",
              "fnlwgt            0\n",
              "education         0\n",
              "education-num     0\n",
              "marital-status    0\n",
              "occupation        0\n",
              "relationship      0\n",
              "race              0\n",
              "sex               0\n",
              "capital-gain      0\n",
              "capital-loss      0\n",
              "hours-per-week    0\n",
              "country           0\n",
              "salary            0\n",
              "dtype: int64"
            ]
          },
          "metadata": {},
          "execution_count": 76
        }
      ]
    },
    {
      "cell_type": "markdown",
      "source": [
        "## Working on categorical data"
      ],
      "metadata": {
        "id": "b2gS2vGXjrgK"
      }
    },
    {
      "cell_type": "code",
      "source": [
        "df['sex'] = df['sex'].map({' Male':1, ' Female':0})"
      ],
      "metadata": {
        "id": "gPMK7msojr7f"
      },
      "execution_count": 77,
      "outputs": []
    },
    {
      "cell_type": "code",
      "source": [
        "df['salary'] = pd.get_dummies(df['salary'], drop_first = True)"
      ],
      "metadata": {
        "id": "CtSw1TM9jubn"
      },
      "execution_count": 78,
      "outputs": []
    },
    {
      "cell_type": "code",
      "source": [
        "df.head(2)"
      ],
      "metadata": {
        "colab": {
          "base_uri": "https://localhost:8080/",
          "height": 112
        },
        "id": "y8Bq8KIfjvfg",
        "outputId": "bfbeac79-871b-468e-eeed-2f41cbfe3f4b"
      },
      "execution_count": 79,
      "outputs": [
        {
          "output_type": "execute_result",
          "data": {
            "text/plain": [
              "   age          workclass  fnlwgt   education  education-num  \\\n",
              "0   39          State-gov   77516   Bachelors             13   \n",
              "1   50   Self-emp-not-inc   83311   Bachelors             13   \n",
              "\n",
              "        marital-status        occupation    relationship    race  sex  \\\n",
              "0        Never-married      Adm-clerical   Not-in-family   White    1   \n",
              "1   Married-civ-spouse   Exec-managerial         Husband   White    1   \n",
              "\n",
              "   capital-gain  capital-loss  hours-per-week         country  salary  \n",
              "0          2174             0              40   United-States       0  \n",
              "1             0             0              13   United-States       0  "
            ],
            "text/html": [
              "\n",
              "  <div id=\"df-3f628345-8703-49f4-9fba-81e10bebc792\">\n",
              "    <div class=\"colab-df-container\">\n",
              "      <div>\n",
              "<style scoped>\n",
              "    .dataframe tbody tr th:only-of-type {\n",
              "        vertical-align: middle;\n",
              "    }\n",
              "\n",
              "    .dataframe tbody tr th {\n",
              "        vertical-align: top;\n",
              "    }\n",
              "\n",
              "    .dataframe thead th {\n",
              "        text-align: right;\n",
              "    }\n",
              "</style>\n",
              "<table border=\"1\" class=\"dataframe\">\n",
              "  <thead>\n",
              "    <tr style=\"text-align: right;\">\n",
              "      <th></th>\n",
              "      <th>age</th>\n",
              "      <th>workclass</th>\n",
              "      <th>fnlwgt</th>\n",
              "      <th>education</th>\n",
              "      <th>education-num</th>\n",
              "      <th>marital-status</th>\n",
              "      <th>occupation</th>\n",
              "      <th>relationship</th>\n",
              "      <th>race</th>\n",
              "      <th>sex</th>\n",
              "      <th>capital-gain</th>\n",
              "      <th>capital-loss</th>\n",
              "      <th>hours-per-week</th>\n",
              "      <th>country</th>\n",
              "      <th>salary</th>\n",
              "    </tr>\n",
              "  </thead>\n",
              "  <tbody>\n",
              "    <tr>\n",
              "      <th>0</th>\n",
              "      <td>39</td>\n",
              "      <td>State-gov</td>\n",
              "      <td>77516</td>\n",
              "      <td>Bachelors</td>\n",
              "      <td>13</td>\n",
              "      <td>Never-married</td>\n",
              "      <td>Adm-clerical</td>\n",
              "      <td>Not-in-family</td>\n",
              "      <td>White</td>\n",
              "      <td>1</td>\n",
              "      <td>2174</td>\n",
              "      <td>0</td>\n",
              "      <td>40</td>\n",
              "      <td>United-States</td>\n",
              "      <td>0</td>\n",
              "    </tr>\n",
              "    <tr>\n",
              "      <th>1</th>\n",
              "      <td>50</td>\n",
              "      <td>Self-emp-not-inc</td>\n",
              "      <td>83311</td>\n",
              "      <td>Bachelors</td>\n",
              "      <td>13</td>\n",
              "      <td>Married-civ-spouse</td>\n",
              "      <td>Exec-managerial</td>\n",
              "      <td>Husband</td>\n",
              "      <td>White</td>\n",
              "      <td>1</td>\n",
              "      <td>0</td>\n",
              "      <td>0</td>\n",
              "      <td>13</td>\n",
              "      <td>United-States</td>\n",
              "      <td>0</td>\n",
              "    </tr>\n",
              "  </tbody>\n",
              "</table>\n",
              "</div>\n",
              "      <button class=\"colab-df-convert\" onclick=\"convertToInteractive('df-3f628345-8703-49f4-9fba-81e10bebc792')\"\n",
              "              title=\"Convert this dataframe to an interactive table.\"\n",
              "              style=\"display:none;\">\n",
              "        \n",
              "  <svg xmlns=\"http://www.w3.org/2000/svg\" height=\"24px\"viewBox=\"0 0 24 24\"\n",
              "       width=\"24px\">\n",
              "    <path d=\"M0 0h24v24H0V0z\" fill=\"none\"/>\n",
              "    <path d=\"M18.56 5.44l.94 2.06.94-2.06 2.06-.94-2.06-.94-.94-2.06-.94 2.06-2.06.94zm-11 1L8.5 8.5l.94-2.06 2.06-.94-2.06-.94L8.5 2.5l-.94 2.06-2.06.94zm10 10l.94 2.06.94-2.06 2.06-.94-2.06-.94-.94-2.06-.94 2.06-2.06.94z\"/><path d=\"M17.41 7.96l-1.37-1.37c-.4-.4-.92-.59-1.43-.59-.52 0-1.04.2-1.43.59L10.3 9.45l-7.72 7.72c-.78.78-.78 2.05 0 2.83L4 21.41c.39.39.9.59 1.41.59.51 0 1.02-.2 1.41-.59l7.78-7.78 2.81-2.81c.8-.78.8-2.07 0-2.86zM5.41 20L4 18.59l7.72-7.72 1.47 1.35L5.41 20z\"/>\n",
              "  </svg>\n",
              "      </button>\n",
              "      \n",
              "  <style>\n",
              "    .colab-df-container {\n",
              "      display:flex;\n",
              "      flex-wrap:wrap;\n",
              "      gap: 12px;\n",
              "    }\n",
              "\n",
              "    .colab-df-convert {\n",
              "      background-color: #E8F0FE;\n",
              "      border: none;\n",
              "      border-radius: 50%;\n",
              "      cursor: pointer;\n",
              "      display: none;\n",
              "      fill: #1967D2;\n",
              "      height: 32px;\n",
              "      padding: 0 0 0 0;\n",
              "      width: 32px;\n",
              "    }\n",
              "\n",
              "    .colab-df-convert:hover {\n",
              "      background-color: #E2EBFA;\n",
              "      box-shadow: 0px 1px 2px rgba(60, 64, 67, 0.3), 0px 1px 3px 1px rgba(60, 64, 67, 0.15);\n",
              "      fill: #174EA6;\n",
              "    }\n",
              "\n",
              "    [theme=dark] .colab-df-convert {\n",
              "      background-color: #3B4455;\n",
              "      fill: #D2E3FC;\n",
              "    }\n",
              "\n",
              "    [theme=dark] .colab-df-convert:hover {\n",
              "      background-color: #434B5C;\n",
              "      box-shadow: 0px 1px 3px 1px rgba(0, 0, 0, 0.15);\n",
              "      filter: drop-shadow(0px 1px 2px rgba(0, 0, 0, 0.3));\n",
              "      fill: #FFFFFF;\n",
              "    }\n",
              "  </style>\n",
              "\n",
              "      <script>\n",
              "        const buttonEl =\n",
              "          document.querySelector('#df-3f628345-8703-49f4-9fba-81e10bebc792 button.colab-df-convert');\n",
              "        buttonEl.style.display =\n",
              "          google.colab.kernel.accessAllowed ? 'block' : 'none';\n",
              "\n",
              "        async function convertToInteractive(key) {\n",
              "          const element = document.querySelector('#df-3f628345-8703-49f4-9fba-81e10bebc792');\n",
              "          const dataTable =\n",
              "            await google.colab.kernel.invokeFunction('convertToInteractive',\n",
              "                                                     [key], {});\n",
              "          if (!dataTable) return;\n",
              "\n",
              "          const docLinkHtml = 'Like what you see? Visit the ' +\n",
              "            '<a target=\"_blank\" href=https://colab.research.google.com/notebooks/data_table.ipynb>data table notebook</a>'\n",
              "            + ' to learn more about interactive tables.';\n",
              "          element.innerHTML = '';\n",
              "          dataTable['output_type'] = 'display_data';\n",
              "          await google.colab.output.renderOutput(dataTable, element);\n",
              "          const docLink = document.createElement('div');\n",
              "          docLink.innerHTML = docLinkHtml;\n",
              "          element.appendChild(docLink);\n",
              "        }\n",
              "      </script>\n",
              "    </div>\n",
              "  </div>\n",
              "  "
            ]
          },
          "metadata": {},
          "execution_count": 79
        }
      ]
    },
    {
      "cell_type": "markdown",
      "source": [
        "### Dropping columns with least correlation"
      ],
      "metadata": {
        "id": "6zC3UNzaj0Hs"
      }
    },
    {
      "cell_type": "code",
      "source": [
        "df_copy = df.copy()\n",
        "\n",
        "encoder = LabelEncoder()\n",
        "\n",
        "for col in df.columns:\n",
        "    if df[col].dtypes == 'object':\n",
        "        df_copy[col] = encoder.fit_transform(df_copy[col])"
      ],
      "metadata": {
        "id": "7uSZDcF6j0hf"
      },
      "execution_count": 80,
      "outputs": []
    },
    {
      "cell_type": "code",
      "source": [
        "plt.figure(figsize = (15, 5))\n",
        "corr = df_copy.corr()\n",
        "sns.heatmap(corr, cmap = 'Blues', annot = True)"
      ],
      "metadata": {
        "colab": {
          "base_uri": "https://localhost:8080/",
          "height": 409
        },
        "id": "AqkVKTjfj2Jw",
        "outputId": "a7bf50f3-b404-4516-f3d3-c7eba8bbce76"
      },
      "execution_count": 81,
      "outputs": [
        {
          "output_type": "execute_result",
          "data": {
            "text/plain": [
              "<matplotlib.axes._subplots.AxesSubplot at 0x7fe69314b940>"
            ]
          },
          "metadata": {},
          "execution_count": 81
        },
        {
          "output_type": "display_data",
          "data": {
            "text/plain": [
              "<Figure size 1080x360 with 2 Axes>"
            ],
            "image/png": "[encoded data removed]"
          },
          "metadata": {
            "needs_background": "light"
          }
        }
      ]
    },
    {
      "cell_type": "markdown",
      "source": [
        "#### From above heatmap we can see that columns - workclass,fnlwgt, education, occupation, country have no effect on our output hence deleting them"
      ],
      "metadata": {
        "id": "Ays94HFEj6zR"
      }
    },
    {
      "cell_type": "code",
      "source": [
        "drop_columns = ['workclass','fnlwgt', 'education', 'occupation', 'country']\n",
        "\n",
        "df = df.drop(drop_columns, axis = 1)"
      ],
      "metadata": {
        "id": "q3fqFDlTj7Bf"
      },
      "execution_count": 83,
      "outputs": []
    },
    {
      "cell_type": "code",
      "source": [
        "df.head(3)"
      ],
      "metadata": {
        "colab": {
          "base_uri": "https://localhost:8080/",
          "height": 143
        },
        "id": "ne6WFkhhj9WS",
        "outputId": "a82f3daf-3706-4d26-9c91-102c36753633"
      },
      "execution_count": 84,
      "outputs": [
        {
          "output_type": "execute_result",
          "data": {
            "text/plain": [
              "   age  education-num       marital-status    relationship    race  sex  \\\n",
              "0   39             13        Never-married   Not-in-family   White    1   \n",
              "1   50             13   Married-civ-spouse         Husband   White    1   \n",
              "2   38              9             Divorced   Not-in-family   White    1   \n",
              "\n",
              "   capital-gain  capital-loss  hours-per-week  salary  \n",
              "0          2174             0              40       0  \n",
              "1             0             0              13       0  \n",
              "2             0             0              40       0  "
            ],
            "text/html": [
              "\n",
              "  <div id=\"df-fea1f7e0-7a4c-4ba3-bc32-fae49142b5e8\">\n",
              "    <div class=\"colab-df-container\">\n",
              "      <div>\n",
              "<style scoped>\n",
              "    .dataframe tbody tr th:only-of-type {\n",
              "        vertical-align: middle;\n",
              "    }\n",
              "\n",
              "    .dataframe tbody tr th {\n",
              "        vertical-align: top;\n",
              "    }\n",
              "\n",
              "    .dataframe thead th {\n",
              "        text-align: right;\n",
              "    }\n",
              "</style>\n",
              "<table border=\"1\" class=\"dataframe\">\n",
              "  <thead>\n",
              "    <tr style=\"text-align: right;\">\n",
              "      <th></th>\n",
              "      <th>age</th>\n",
              "      <th>education-num</th>\n",
              "      <th>marital-status</th>\n",
              "      <th>relationship</th>\n",
              "      <th>race</th>\n",
              "      <th>sex</th>\n",
              "      <th>capital-gain</th>\n",
              "      <th>capital-loss</th>\n",
              "      <th>hours-per-week</th>\n",
              "      <th>salary</th>\n",
              "    </tr>\n",
              "  </thead>\n",
              "  <tbody>\n",
              "    <tr>\n",
              "      <th>0</th>\n",
              "      <td>39</td>\n",
              "      <td>13</td>\n",
              "      <td>Never-married</td>\n",
              "      <td>Not-in-family</td>\n",
              "      <td>White</td>\n",
              "      <td>1</td>\n",
              "      <td>2174</td>\n",
              "      <td>0</td>\n",
              "      <td>40</td>\n",
              "      <td>0</td>\n",
              "    </tr>\n",
              "    <tr>\n",
              "      <th>1</th>\n",
              "      <td>50</td>\n",
              "      <td>13</td>\n",
              "      <td>Married-civ-spouse</td>\n",
              "      <td>Husband</td>\n",
              "      <td>White</td>\n",
              "      <td>1</td>\n",
              "      <td>0</td>\n",
              "      <td>0</td>\n",
              "      <td>13</td>\n",
              "      <td>0</td>\n",
              "    </tr>\n",
              "    <tr>\n",
              "      <th>2</th>\n",
              "      <td>38</td>\n",
              "      <td>9</td>\n",
              "      <td>Divorced</td>\n",
              "      <td>Not-in-family</td>\n",
              "      <td>White</td>\n",
              "      <td>1</td>\n",
              "      <td>0</td>\n",
              "      <td>0</td>\n",
              "      <td>40</td>\n",
              "      <td>0</td>\n",
              "    </tr>\n",
              "  </tbody>\n",
              "</table>\n",
              "</div>\n",
              "      <button class=\"colab-df-convert\" onclick=\"convertToInteractive('df-fea1f7e0-7a4c-4ba3-bc32-fae49142b5e8')\"\n",
              "              title=\"Convert this dataframe to an interactive table.\"\n",
              "              style=\"display:none;\">\n",
              "        \n",
              "  <svg xmlns=\"http://www.w3.org/2000/svg\" height=\"24px\"viewBox=\"0 0 24 24\"\n",
              "       width=\"24px\">\n",
              "    <path d=\"M0 0h24v24H0V0z\" fill=\"none\"/>\n",
              "    <path d=\"M18.56 5.44l.94 2.06.94-2.06 2.06-.94-2.06-.94-.94-2.06-.94 2.06-2.06.94zm-11 1L8.5 8.5l.94-2.06 2.06-.94-2.06-.94L8.5 2.5l-.94 2.06-2.06.94zm10 10l.94 2.06.94-2.06 2.06-.94-2.06-.94-.94-2.06-.94 2.06-2.06.94z\"/><path d=\"M17.41 7.96l-1.37-1.37c-.4-.4-.92-.59-1.43-.59-.52 0-1.04.2-1.43.59L10.3 9.45l-7.72 7.72c-.78.78-.78 2.05 0 2.83L4 21.41c.39.39.9.59 1.41.59.51 0 1.02-.2 1.41-.59l7.78-7.78 2.81-2.81c.8-.78.8-2.07 0-2.86zM5.41 20L4 18.59l7.72-7.72 1.47 1.35L5.41 20z\"/>\n",
              "  </svg>\n",
              "      </button>\n",
              "      \n",
              "  <style>\n",
              "    .colab-df-container {\n",
              "      display:flex;\n",
              "      flex-wrap:wrap;\n",
              "      gap: 12px;\n",
              "    }\n",
              "\n",
              "    .colab-df-convert {\n",
              "      background-color: #E8F0FE;\n",
              "      border: none;\n",
              "      border-radius: 50%;\n",
              "      cursor: pointer;\n",
              "      display: none;\n",
              "      fill: #1967D2;\n",
              "      height: 32px;\n",
              "      padding: 0 0 0 0;\n",
              "      width: 32px;\n",
              "    }\n",
              "\n",
              "    .colab-df-convert:hover {\n",
              "      background-color: #E2EBFA;\n",
              "      box-shadow: 0px 1px 2px rgba(60, 64, 67, 0.3), 0px 1px 3px 1px rgba(60, 64, 67, 0.15);\n",
              "      fill: #174EA6;\n",
              "    }\n",
              "\n",
              "    [theme=dark] .colab-df-convert {\n",
              "      background-color: #3B4455;\n",
              "      fill: #D2E3FC;\n",
              "    }\n",
              "\n",
              "    [theme=dark] .colab-df-convert:hover {\n",
              "      background-color: #434B5C;\n",
              "      box-shadow: 0px 1px 3px 1px rgba(0, 0, 0, 0.15);\n",
              "      filter: drop-shadow(0px 1px 2px rgba(0, 0, 0, 0.3));\n",
              "      fill: #FFFFFF;\n",
              "    }\n",
              "  </style>\n",
              "\n",
              "      <script>\n",
              "        const buttonEl =\n",
              "          document.querySelector('#df-fea1f7e0-7a4c-4ba3-bc32-fae49142b5e8 button.colab-df-convert');\n",
              "        buttonEl.style.display =\n",
              "          google.colab.kernel.accessAllowed ? 'block' : 'none';\n",
              "\n",
              "        async function convertToInteractive(key) {\n",
              "          const element = document.querySelector('#df-fea1f7e0-7a4c-4ba3-bc32-fae49142b5e8');\n",
              "          const dataTable =\n",
              "            await google.colab.kernel.invokeFunction('convertToInteractive',\n",
              "                                                     [key], {});\n",
              "          if (!dataTable) return;\n",
              "\n",
              "          const docLinkHtml = 'Like what you see? Visit the ' +\n",
              "            '<a target=\"_blank\" href=https://colab.research.google.com/notebooks/data_table.ipynb>data table notebook</a>'\n",
              "            + ' to learn more about interactive tables.';\n",
              "          element.innerHTML = '';\n",
              "          dataTable['output_type'] = 'display_data';\n",
              "          await google.colab.output.renderOutput(dataTable, element);\n",
              "          const docLink = document.createElement('div');\n",
              "          docLink.innerHTML = docLinkHtml;\n",
              "          element.appendChild(docLink);\n",
              "        }\n",
              "      </script>\n",
              "    </div>\n",
              "  </div>\n",
              "  "
            ]
          },
          "metadata": {},
          "execution_count": 84
        }
      ]
    },
    {
      "cell_type": "code",
      "source": [
        "categorical_columns = [col for col in df.columns if df[col].dtypes == 'object']\n",
        "\n",
        "df = pd.get_dummies(df, categorical_columns, drop_first = True)\n",
        "df.head()"
      ],
      "metadata": {
        "colab": {
          "base_uri": "https://localhost:8080/",
          "height": 369
        },
        "id": "7tf_DpNqj--_",
        "outputId": "42399eb1-1511-45f1-aa27-6dfd65dba8c4"
      },
      "execution_count": 85,
      "outputs": [
        {
          "output_type": "execute_result",
          "data": {
            "text/plain": [
              "   age  education-num  sex  capital-gain  capital-loss  hours-per-week  \\\n",
              "0   39             13    1          2174             0              40   \n",
              "1   50             13    1             0             0              13   \n",
              "2   38              9    1             0             0              40   \n",
              "3   53              7    1             0             0              40   \n",
              "4   28             13    0             0             0              40   \n",
              "\n",
              "   salary  marital-status_ Married-AF-spouse  \\\n",
              "0       0                                  0   \n",
              "1       0                                  0   \n",
              "2       0                                  0   \n",
              "3       0                                  0   \n",
              "4       0                                  0   \n",
              "\n",
              "   marital-status_ Married-civ-spouse  marital-status_ Married-spouse-absent  \\\n",
              "0                                   0                                      0   \n",
              "1                                   1                                      0   \n",
              "2                                   0                                      0   \n",
              "3                                   1                                      0   \n",
              "4                                   1                                      0   \n",
              "\n",
              "   ...  marital-status_ Widowed  relationship_ Not-in-family  \\\n",
              "0  ...                        0                            1   \n",
              "1  ...                        0                            0   \n",
              "2  ...                        0                            1   \n",
              "3  ...                        0                            0   \n",
              "4  ...                        0                            0   \n",
              "\n",
              "   relationship_ Other-relative  relationship_ Own-child  \\\n",
              "0                             0                        0   \n",
              "1                             0                        0   \n",
              "2                             0                        0   \n",
              "3                             0                        0   \n",
              "4                             0                        0   \n",
              "\n",
              "   relationship_ Unmarried  relationship_ Wife  race_ Asian-Pac-Islander  \\\n",
              "0                        0                   0                         0   \n",
              "1                        0                   0                         0   \n",
              "2                        0                   0                         0   \n",
              "3                        0                   0                         0   \n",
              "4                        0                   1                         0   \n",
              "\n",
              "   race_ Black  race_ Other  race_ White  \n",
              "0            0            0            1  \n",
              "1            0            0            1  \n",
              "2            0            0            1  \n",
              "3            1            0            0  \n",
              "4            1            0            0  \n",
              "\n",
              "[5 rows x 22 columns]"
            ],
            "text/html": [
              "\n",
              "  <div id=\"df-9b3e51f9-d793-4cfe-9bc4-f3fc017641a1\">\n",
              "    <div class=\"colab-df-container\">\n",
              "      <div>\n",
              "<style scoped>\n",
              "    .dataframe tbody tr th:only-of-type {\n",
              "        vertical-align: middle;\n",
              "    }\n",
              "\n",
              "    .dataframe tbody tr th {\n",
              "        vertical-align: top;\n",
              "    }\n",
              "\n",
              "    .dataframe thead th {\n",
              "        text-align: right;\n",
              "    }\n",
              "</style>\n",
              "<table border=\"1\" class=\"dataframe\">\n",
              "  <thead>\n",
              "    <tr style=\"text-align: right;\">\n",
              "      <th></th>\n",
              "      <th>age</th>\n",
              "      <th>education-num</th>\n",
              "      <th>sex</th>\n",
              "      <th>capital-gain</th>\n",
              "      <th>capital-loss</th>\n",
              "      <th>hours-per-week</th>\n",
              "      <th>salary</th>\n",
              "      <th>marital-status_ Married-AF-spouse</th>\n",
              "      <th>marital-status_ Married-civ-spouse</th>\n",
              "      <th>marital-status_ Married-spouse-absent</th>\n",
              "      <th>...</th>\n",
              "      <th>marital-status_ Widowed</th>\n",
              "      <th>relationship_ Not-in-family</th>\n",
              "      <th>relationship_ Other-relative</th>\n",
              "      <th>relationship_ Own-child</th>\n",
              "      <th>relationship_ Unmarried</th>\n",
              "      <th>relationship_ Wife</th>\n",
              "      <th>race_ Asian-Pac-Islander</th>\n",
              "      <th>race_ Black</th>\n",
              "      <th>race_ Other</th>\n",
              "      <th>race_ White</th>\n",
              "    </tr>\n",
              "  </thead>\n",
              "  <tbody>\n",
              "    <tr>\n",
              "      <th>0</th>\n",
              "      <td>39</td>\n",
              "      <td>13</td>\n",
              "      <td>1</td>\n",
              "      <td>2174</td>\n",
              "      <td>0</td>\n",
              "      <td>40</td>\n",
              "      <td>0</td>\n",
              "      <td>0</td>\n",
              "      <td>0</td>\n",
              "      <td>0</td>\n",
              "      <td>...</td>\n",
              "      <td>0</td>\n",
              "      <td>1</td>\n",
              "      <td>0</td>\n",
              "      <td>0</td>\n",
              "      <td>0</td>\n",
              "      <td>0</td>\n",
              "      <td>0</td>\n",
              "      <td>0</td>\n",
              "      <td>0</td>\n",
              "      <td>1</td>\n",
              "    </tr>\n",
              "    <tr>\n",
              "      <th>1</th>\n",
              "      <td>50</td>\n",
              "      <td>13</td>\n",
              "      <td>1</td>\n",
              "      <td>0</td>\n",
              "      <td>0</td>\n",
              "      <td>13</td>\n",
              "      <td>0</td>\n",
              "      <td>0</td>\n",
              "      <td>1</td>\n",
              "      <td>0</td>\n",
              "      <td>...</td>\n",
              "      <td>0</td>\n",
              "      <td>0</td>\n",
              "      <td>0</td>\n",
              "      <td>0</td>\n",
              "      <td>0</td>\n",
              "      <td>0</td>\n",
              "      <td>0</td>\n",
              "      <td>0</td>\n",
              "      <td>0</td>\n",
              "      <td>1</td>\n",
              "    </tr>\n",
              "    <tr>\n",
              "      <th>2</th>\n",
              "      <td>38</td>\n",
              "      <td>9</td>\n",
              "      <td>1</td>\n",
              "      <td>0</td>\n",
              "      <td>0</td>\n",
              "      <td>40</td>\n",
              "      <td>0</td>\n",
              "      <td>0</td>\n",
              "      <td>0</td>\n",
              "      <td>0</td>\n",
              "      <td>...</td>\n",
              "      <td>0</td>\n",
              "      <td>1</td>\n",
              "      <td>0</td>\n",
              "      <td>0</td>\n",
              "      <td>0</td>\n",
              "      <td>0</td>\n",
              "      <td>0</td>\n",
              "      <td>0</td>\n",
              "      <td>0</td>\n",
              "      <td>1</td>\n",
              "    </tr>\n",
              "    <tr>\n",
              "      <th>3</th>\n",
              "      <td>53</td>\n",
              "      <td>7</td>\n",
              "      <td>1</td>\n",
              "      <td>0</td>\n",
              "      <td>0</td>\n",
              "      <td>40</td>\n",
              "      <td>0</td>\n",
              "      <td>0</td>\n",
              "      <td>1</td>\n",
              "      <td>0</td>\n",
              "      <td>...</td>\n",
              "      <td>0</td>\n",
              "      <td>0</td>\n",
              "      <td>0</td>\n",
              "      <td>0</td>\n",
              "      <td>0</td>\n",
              "      <td>0</td>\n",
              "      <td>0</td>\n",
              "      <td>1</td>\n",
              "      <td>0</td>\n",
              "      <td>0</td>\n",
              "    </tr>\n",
              "    <tr>\n",
              "      <th>4</th>\n",
              "      <td>28</td>\n",
              "      <td>13</td>\n",
              "      <td>0</td>\n",
              "      <td>0</td>\n",
              "      <td>0</td>\n",
              "      <td>40</td>\n",
              "      <td>0</td>\n",
              "      <td>0</td>\n",
              "      <td>1</td>\n",
              "      <td>0</td>\n",
              "      <td>...</td>\n",
              "      <td>0</td>\n",
              "      <td>0</td>\n",
              "      <td>0</td>\n",
              "      <td>0</td>\n",
              "      <td>0</td>\n",
              "      <td>1</td>\n",
              "      <td>0</td>\n",
              "      <td>1</td>\n",
              "      <td>0</td>\n",
              "      <td>0</td>\n",
              "    </tr>\n",
              "  </tbody>\n",
              "</table>\n",
              "<p>5 rows × 22 columns</p>\n",
              "</div>\n",
              "      <button class=\"colab-df-convert\" onclick=\"convertToInteractive('df-9b3e51f9-d793-4cfe-9bc4-f3fc017641a1')\"\n",
              "              title=\"Convert this dataframe to an interactive table.\"\n",
              "              style=\"display:none;\">\n",
              "        \n",
              "  <svg xmlns=\"http://www.w3.org/2000/svg\" height=\"24px\"viewBox=\"0 0 24 24\"\n",
              "       width=\"24px\">\n",
              "    <path d=\"M0 0h24v24H0V0z\" fill=\"none\"/>\n",
              "    <path d=\"M18.56 5.44l.94 2.06.94-2.06 2.06-.94-2.06-.94-.94-2.06-.94 2.06-2.06.94zm-11 1L8.5 8.5l.94-2.06 2.06-.94-2.06-.94L8.5 2.5l-.94 2.06-2.06.94zm10 10l.94 2.06.94-2.06 2.06-.94-2.06-.94-.94-2.06-.94 2.06-2.06.94z\"/><path d=\"M17.41 7.96l-1.37-1.37c-.4-.4-.92-.59-1.43-.59-.52 0-1.04.2-1.43.59L10.3 9.45l-7.72 7.72c-.78.78-.78 2.05 0 2.83L4 21.41c.39.39.9.59 1.41.59.51 0 1.02-.2 1.41-.59l7.78-7.78 2.81-2.81c.8-.78.8-2.07 0-2.86zM5.41 20L4 18.59l7.72-7.72 1.47 1.35L5.41 20z\"/>\n",
              "  </svg>\n",
              "      </button>\n",
              "      \n",
              "  <style>\n",
              "    .colab-df-container {\n",
              "      display:flex;\n",
              "      flex-wrap:wrap;\n",
              "      gap: 12px;\n",
              "    }\n",
              "\n",
              "    .colab-df-convert {\n",
              "      background-color: #E8F0FE;\n",
              "      border: none;\n",
              "      border-radius: 50%;\n",
              "      cursor: pointer;\n",
              "      display: none;\n",
              "      fill: #1967D2;\n",
              "      height: 32px;\n",
              "      padding: 0 0 0 0;\n",
              "      width: 32px;\n",
              "    }\n",
              "\n",
              "    .colab-df-convert:hover {\n",
              "      background-color: #E2EBFA;\n",
              "      box-shadow: 0px 1px 2px rgba(60, 64, 67, 0.3), 0px 1px 3px 1px rgba(60, 64, 67, 0.15);\n",
              "      fill: #174EA6;\n",
              "    }\n",
              "\n",
              "    [theme=dark] .colab-df-convert {\n",
              "      background-color: #3B4455;\n",
              "      fill: #D2E3FC;\n",
              "    }\n",
              "\n",
              "    [theme=dark] .colab-df-convert:hover {\n",
              "      background-color: #434B5C;\n",
              "      box-shadow: 0px 1px 3px 1px rgba(0, 0, 0, 0.15);\n",
              "      filter: drop-shadow(0px 1px 2px rgba(0, 0, 0, 0.3));\n",
              "      fill: #FFFFFF;\n",
              "    }\n",
              "  </style>\n",
              "\n",
              "      <script>\n",
              "        const buttonEl =\n",
              "          document.querySelector('#df-9b3e51f9-d793-4cfe-9bc4-f3fc017641a1 button.colab-df-convert');\n",
              "        buttonEl.style.display =\n",
              "          google.colab.kernel.accessAllowed ? 'block' : 'none';\n",
              "\n",
              "        async function convertToInteractive(key) {\n",
              "          const element = document.querySelector('#df-9b3e51f9-d793-4cfe-9bc4-f3fc017641a1');\n",
              "          const dataTable =\n",
              "            await google.colab.kernel.invokeFunction('convertToInteractive',\n",
              "                                                     [key], {});\n",
              "          if (!dataTable) return;\n",
              "\n",
              "          const docLinkHtml = 'Like what you see? Visit the ' +\n",
              "            '<a target=\"_blank\" href=https://colab.research.google.com/notebooks/data_table.ipynb>data table notebook</a>'\n",
              "            + ' to learn more about interactive tables.';\n",
              "          element.innerHTML = '';\n",
              "          dataTable['output_type'] = 'display_data';\n",
              "          await google.colab.output.renderOutput(dataTable, element);\n",
              "          const docLink = document.createElement('div');\n",
              "          docLink.innerHTML = docLinkHtml;\n",
              "          element.appendChild(docLink);\n",
              "        }\n",
              "      </script>\n",
              "    </div>\n",
              "  </div>\n",
              "  "
            ]
          },
          "metadata": {},
          "execution_count": 85
        }
      ]
    },
    {
      "cell_type": "markdown",
      "source": [
        "## Handling the imbalanced data"
      ],
      "metadata": {
        "id": "TRd6iSY2kD8J"
      }
    },
    {
      "cell_type": "code",
      "source": [
        "X = df.drop('salary', axis = 1)\n",
        "y = df['salary']"
      ],
      "metadata": {
        "id": "hEx73niEkENw"
      },
      "execution_count": 86,
      "outputs": []
    },
    {
      "cell_type": "code",
      "source": [
        "(y.value_counts()/len(y))*100"
      ],
      "metadata": {
        "colab": {
          "base_uri": "https://localhost:8080/"
        },
        "id": "SvDqAAhxkGOH",
        "outputId": "472ec381-3ef3-4d37-9848-27c73fd2f0f8"
      },
      "execution_count": 87,
      "outputs": [
        {
          "output_type": "execute_result",
          "data": {
            "text/plain": [
              "0    75.919044\n",
              "1    24.080956\n",
              "Name: salary, dtype: float64"
            ]
          },
          "metadata": {},
          "execution_count": 87
        }
      ]
    },
    {
      "cell_type": "code",
      "source": [
        "sampler = RandomOverSampler(random_state = 23)\n",
        "\n",
        "sampler.fit(X,y)"
      ],
      "metadata": {
        "colab": {
          "base_uri": "https://localhost:8080/"
        },
        "id": "0FFm9m1kkHKP",
        "outputId": "a7074c66-9fc2-4b94-a6c8-cc057b60fd1f"
      },
      "execution_count": 89,
      "outputs": [
        {
          "output_type": "execute_result",
          "data": {
            "text/plain": [
              "RandomOverSampler(random_state=23)"
            ]
          },
          "metadata": {},
          "execution_count": 89
        }
      ]
    },
    {
      "cell_type": "code",
      "source": [
        "X_sampled, y_sampled = sampler.fit_resample(X,y)"
      ],
      "metadata": {
        "id": "7vQLAZRtkPEn"
      },
      "execution_count": 91,
      "outputs": []
    },
    {
      "cell_type": "code",
      "source": [
        "y_sampled.value_counts()"
      ],
      "metadata": {
        "colab": {
          "base_uri": "https://localhost:8080/"
        },
        "id": "4oh8kEcTkgnw",
        "outputId": "4f469913-0e37-436c-c7f9-09581f315731"
      },
      "execution_count": 97,
      "outputs": [
        {
          "output_type": "execute_result",
          "data": {
            "text/plain": [
              "0    24720\n",
              "1    24720\n",
              "Name: salary, dtype: int64"
            ]
          },
          "metadata": {},
          "execution_count": 97
        }
      ]
    },
    {
      "cell_type": "code",
      "source": [
        "X_train, X_test, y_train, y_test = train_test_split(X_sampled, y_sampled, train_size = 0.75)"
      ],
      "metadata": {
        "id": "3vg8taGJkm9X"
      },
      "execution_count": 100,
      "outputs": []
    },
    {
      "cell_type": "code",
      "source": [
        "X_train.shape"
      ],
      "metadata": {
        "colab": {
          "base_uri": "https://localhost:8080/"
        },
        "id": "d3RoVvjJm6A_",
        "outputId": "c230af7b-bb30-4fe1-812f-ebcd7accf340"
      },
      "execution_count": 101,
      "outputs": [
        {
          "output_type": "execute_result",
          "data": {
            "text/plain": [
              "(37080, 21)"
            ]
          },
          "metadata": {},
          "execution_count": 101
        }
      ]
    },
    {
      "cell_type": "code",
      "source": [
        "X_test.shape"
      ],
      "metadata": {
        "colab": {
          "base_uri": "https://localhost:8080/"
        },
        "id": "aJazYRjgnBrf",
        "outputId": "f195604b-b1ff-4f95-8a39-bf6314e94cb4"
      },
      "execution_count": 103,
      "outputs": [
        {
          "output_type": "execute_result",
          "data": {
            "text/plain": [
              "(12360, 21)"
            ]
          },
          "metadata": {},
          "execution_count": 103
        }
      ]
    },
    {
      "cell_type": "code",
      "source": [
        "models = {\n",
        "    'Logistric Regression' : LogisticRegression(),\n",
        "    'Naive Bayes' : GaussianNB(),\n",
        "    'Random Forest' : RandomForestClassifier(),\n",
        "    'Decision tree' : DecisionTreeClassifier(),\n",
        "    'Support Vector Classifier' : SVC(),\n",
        "    'XG Boost' : XGBClassifier()\n",
        "}"
      ],
      "metadata": {
        "id": "J3j7ojAfnCov"
      },
      "execution_count": 106,
      "outputs": []
    },
    {
      "cell_type": "code",
      "source": [
        "for name, model in models.items():\n",
        "  model.fit(X_train, y_train)\n",
        "  print(f\"{name} trained!\")"
      ],
      "metadata": {
        "colab": {
          "base_uri": "https://localhost:8080/"
        },
        "id": "zF_mTmJPnnFv",
        "outputId": "ffc417ae-445d-46eb-f8da-d04438c0358d"
      },
      "execution_count": 107,
      "outputs": [
        {
          "output_type": "stream",
          "name": "stderr",
          "text": [
            "/usr/local/lib/python3.8/dist-packages/sklearn/linear_model/_logistic.py:814: ConvergenceWarning: lbfgs failed to converge (status=1):\n",
            "STOP: TOTAL NO. of ITERATIONS REACHED LIMIT.\n",
            "\n",
            "Increase the number of iterations (max_iter) or scale the data as shown in:\n",
            "    https://scikit-learn.org/stable/modules/preprocessing.html\n",
            "Please also refer to the documentation for alternative solver options:\n",
            "    https://scikit-learn.org/stable/modules/linear_model.html#logistic-regression\n",
            "  n_iter_i = _check_optimize_result(\n"
          ]
        },
        {
          "output_type": "stream",
          "name": "stdout",
          "text": [
            "Logistric Regression trained!\n",
            "Naive Bayes trained!\n",
            "Random Forest trained!\n",
            "Decision tree trained!\n",
            "Support Vector Classifier trained!\n",
            "XG Boost trained!\n"
          ]
        }
      ]
    },
    {
      "cell_type": "code",
      "source": [
        "for name, model in models.items():\n",
        "  y_pred = model.predict(X_test)\n",
        "  score = accuracy_score(y_test, y_pred)\n",
        "  print(f\"{name} Accuracy score: {score * 100} %\")\n",
        "  print('\\n')\n",
        "  print(classification_report(y_test, y_pred))\n",
        "  print('--------------------------------------------------------------')"
      ],
      "metadata": {
        "colab": {
          "base_uri": "https://localhost:8080/"
        },
        "id": "CmLSI16pn29v",
        "outputId": "cb4fb299-48d8-4b66-cbc2-4c12a01ab9aa"
      },
      "execution_count": 132,
      "outputs": [
        {
          "output_type": "stream",
          "name": "stdout",
          "text": [
            "Logistric Regression Accuracy score: 79.79773462783172 %\n",
            "\n",
            "\n",
            "              precision    recall  f1-score   support\n",
            "\n",
            "           0       0.87      0.71      0.78      6283\n",
            "           1       0.75      0.89      0.81      6077\n",
            "\n",
            "    accuracy                           0.80     12360\n",
            "   macro avg       0.81      0.80      0.80     12360\n",
            "weighted avg       0.81      0.80      0.80     12360\n",
            "\n",
            "--------------------------------------------------------------\n",
            "Naive Bayes Accuracy score: 79.67637540453075 %\n",
            "\n",
            "\n",
            "              precision    recall  f1-score   support\n",
            "\n",
            "           0       0.78      0.84      0.81      6283\n",
            "           1       0.82      0.76      0.79      6077\n",
            "\n",
            "    accuracy                           0.80     12360\n",
            "   macro avg       0.80      0.80      0.80     12360\n",
            "weighted avg       0.80      0.80      0.80     12360\n",
            "\n",
            "--------------------------------------------------------------\n",
            "Random Forest Accuracy score: 87.89644012944984 %\n",
            "\n",
            "\n",
            "              precision    recall  f1-score   support\n",
            "\n",
            "           0       0.93      0.82      0.87      6283\n",
            "           1       0.84      0.94      0.88      6077\n",
            "\n",
            "    accuracy                           0.88     12360\n",
            "   macro avg       0.88      0.88      0.88     12360\n",
            "weighted avg       0.88      0.88      0.88     12360\n",
            "\n",
            "--------------------------------------------------------------\n",
            "Decision tree Accuracy score: 86.9336569579288 %\n",
            "\n",
            "\n",
            "              precision    recall  f1-score   support\n",
            "\n",
            "           0       0.92      0.82      0.86      6283\n",
            "           1       0.83      0.93      0.87      6077\n",
            "\n",
            "    accuracy                           0.87     12360\n",
            "   macro avg       0.87      0.87      0.87     12360\n",
            "weighted avg       0.87      0.87      0.87     12360\n",
            "\n",
            "--------------------------------------------------------------\n",
            "Support Vector Classifier Accuracy score: 63.81067961165049 %\n",
            "\n",
            "\n",
            "              precision    recall  f1-score   support\n",
            "\n",
            "           0       0.59      0.96      0.73      6283\n",
            "           1       0.87      0.31      0.46      6077\n",
            "\n",
            "    accuracy                           0.64     12360\n",
            "   macro avg       0.73      0.63      0.59     12360\n",
            "weighted avg       0.73      0.64      0.59     12360\n",
            "\n",
            "--------------------------------------------------------------\n",
            "XG Boost Accuracy score: 83.26860841423948 %\n",
            "\n",
            "\n",
            "              precision    recall  f1-score   support\n",
            "\n",
            "           0       0.87      0.79      0.83      6283\n",
            "           1       0.80      0.88      0.84      6077\n",
            "\n",
            "    accuracy                           0.83     12360\n",
            "   macro avg       0.84      0.83      0.83     12360\n",
            "weighted avg       0.84      0.83      0.83     12360\n",
            "\n",
            "--------------------------------------------------------------\n"
          ]
        }
      ]
    },
    {
      "cell_type": "markdown",
      "source": [
        "### Parameter Tuning - Random Forest and Decision tree"
      ],
      "metadata": {
        "id": "LY2jJF1Epnl6"
      }
    },
    {
      "cell_type": "markdown",
      "source": [
        "#### Random Forest"
      ],
      "metadata": {
        "id": "IUxHjtof6wVj"
      }
    },
    {
      "cell_type": "code",
      "source": [
        "params = {\n",
        "    'n_estimators' : [100, 150, 200, 250],\n",
        "    'criterion' : ['gini', 'entropy', 'log_loss'],\n",
        "    'max_depth' : [2,3,4,5]\n",
        "}\n",
        "\n",
        "random_forest = RandomForestClassifier()\n",
        "\n",
        "grid = GridSearchCV(estimator = random_forest, param_grid = params, cv = 5, scoring = 'accuracy')\n",
        "grid.fit(X_train, y_train)"
      ],
      "metadata": {
        "colab": {
          "base_uri": "https://localhost:8080/"
        },
        "id": "1OM6NEUF6woT",
        "outputId": "e48d224e-409e-4861-90d4-70badebed31a"
      },
      "execution_count": 118,
      "outputs": [
        {
          "output_type": "stream",
          "name": "stderr",
          "text": [
            "/usr/local/lib/python3.8/dist-packages/sklearn/model_selection/_validation.py:372: FitFailedWarning: \n",
            "80 fits failed out of a total of 240.\n",
            "The score on these train-test partitions for these parameters will be set to nan.\n",
            "If these failures are not expected, you can try to debug them by setting error_score='raise'.\n",
            "\n",
            "Below are more details about the failures:\n",
            "--------------------------------------------------------------------------------\n",
            "80 fits failed with the following error:\n",
            "Traceback (most recent call last):\n",
            "  File \"/usr/local/lib/python3.8/dist-packages/sklearn/model_selection/_validation.py\", line 680, in _fit_and_score\n",
            "    estimator.fit(X_train, y_train, **fit_params)\n",
            "  File \"/usr/local/lib/python3.8/dist-packages/sklearn/ensemble/_forest.py\", line 450, in fit\n",
            "    trees = Parallel(\n",
            "  File \"/usr/local/lib/python3.8/dist-packages/joblib/parallel.py\", line 1085, in __call__\n",
            "    if self.dispatch_one_batch(iterator):\n",
            "  File \"/usr/local/lib/python3.8/dist-packages/joblib/parallel.py\", line 901, in dispatch_one_batch\n",
            "    self._dispatch(tasks)\n",
            "  File \"/usr/local/lib/python3.8/dist-packages/joblib/parallel.py\", line 819, in _dispatch\n",
            "    job = self._backend.apply_async(batch, callback=cb)\n",
            "  File \"/usr/local/lib/python3.8/dist-packages/joblib/_parallel_backends.py\", line 208, in apply_async\n",
            "    result = ImmediateResult(func)\n",
            "  File \"/usr/local/lib/python3.8/dist-packages/joblib/_parallel_backends.py\", line 597, in __init__\n",
            "    self.results = batch()\n",
            "  File \"/usr/local/lib/python3.8/dist-packages/joblib/parallel.py\", line 288, in __call__\n",
            "    return [func(*args, **kwargs)\n",
            "  File \"/usr/local/lib/python3.8/dist-packages/joblib/parallel.py\", line 288, in <listcomp>\n",
            "    return [func(*args, **kwargs)\n",
            "  File \"/usr/local/lib/python3.8/dist-packages/sklearn/utils/fixes.py\", line 216, in __call__\n",
            "    return self.function(*args, **kwargs)\n",
            "  File \"/usr/local/lib/python3.8/dist-packages/sklearn/ensemble/_forest.py\", line 185, in _parallel_build_trees\n",
            "    tree.fit(X, y, sample_weight=curr_sample_weight, check_input=False)\n",
            "  File \"/usr/local/lib/python3.8/dist-packages/sklearn/tree/_classes.py\", line 937, in fit\n",
            "    super().fit(\n",
            "  File \"/usr/local/lib/python3.8/dist-packages/sklearn/tree/_classes.py\", line 352, in fit\n",
            "    criterion = CRITERIA_CLF[self.criterion](\n",
            "KeyError: 'log_loss'\n",
            "\n",
            "  warnings.warn(some_fits_failed_message, FitFailedWarning)\n",
            "/usr/local/lib/python3.8/dist-packages/sklearn/model_selection/_search.py:969: UserWarning: One or more of the test scores are non-finite: [0.78484358 0.78484358 0.7860302  0.78368393 0.78832255 0.78807983\n",
            " 0.78959008 0.78716289 0.79492988 0.79557713 0.79641316 0.79541532\n",
            " 0.79951456 0.79924488 0.79962244 0.79921791 0.78373786 0.78554477\n",
            " 0.78648867 0.78473571 0.78756742 0.78983279 0.78880798 0.78721683\n",
            " 0.79468716 0.79352751 0.79398598 0.79519957 0.79778857 0.79811219\n",
            " 0.79813916 0.79778857        nan        nan        nan        nan\n",
            "        nan        nan        nan        nan        nan        nan\n",
            "        nan        nan        nan        nan        nan        nan]\n",
            "  warnings.warn(\n"
          ]
        },
        {
          "output_type": "execute_result",
          "data": {
            "text/plain": [
              "GridSearchCV(cv=5, estimator=RandomForestClassifier(),\n",
              "             param_grid={'criterion': ['gini', 'entropy', 'log_loss'],\n",
              "                         'max_depth': [2, 3, 4, 5],\n",
              "                         'n_estimators': [100, 150, 200, 250]},\n",
              "             scoring='accuracy')"
            ]
          },
          "metadata": {},
          "execution_count": 118
        }
      ]
    },
    {
      "cell_type": "code",
      "source": [
        "pd.DataFrame(grid.cv_results_)"
      ],
      "metadata": {
        "colab": {
          "base_uri": "https://localhost:8080/",
          "height": 1000
        },
        "id": "Ya8o5CF58eS2",
        "outputId": "edfd0c31-9d84-4ec9-a598-2c2bd18c58f6"
      },
      "execution_count": 124,
      "outputs": [
        {
          "output_type": "execute_result",
          "data": {
            "text/plain": [
              "    mean_fit_time  std_fit_time  mean_score_time  std_score_time  \\\n",
              "0        0.023916      0.000887         0.003849        0.000118   \n",
              "1        0.020954      0.005054         0.004142        0.000673   \n",
              "2        0.029448      0.001493         0.003795        0.000051   \n",
              "3        0.020522      0.000289         0.003748        0.000084   \n",
              "4        0.034215      0.000682         0.003841        0.000044   \n",
              "5        0.027985      0.003620         0.004142        0.000519   \n",
              "6        0.039450      0.001717         0.003930        0.000048   \n",
              "7        0.028516      0.002916         0.004455        0.000775   \n",
              "8        0.023485      0.000308         0.003718        0.000037   \n",
              "9        0.018057      0.000420         0.003761        0.000281   \n",
              "10       0.029094      0.000856         0.003845        0.000163   \n",
              "11       0.021921      0.001736         0.004068        0.000546   \n",
              "12       0.034896      0.001709         0.004034        0.000424   \n",
              "13       0.023634      0.001836         0.004312        0.000760   \n",
              "14       0.040004      0.000648         0.004257        0.000647   \n",
              "15       0.027607      0.003325         0.004049        0.000144   \n",
              "16       0.011364      0.000159         0.000000        0.000000   \n",
              "17       0.011421      0.000180         0.000000        0.000000   \n",
              "18       0.011179      0.000116         0.000000        0.000000   \n",
              "19       0.011567      0.000290         0.000000        0.000000   \n",
              "20       0.011005      0.000114         0.000000        0.000000   \n",
              "21       0.011215      0.000360         0.000000        0.000000   \n",
              "22       0.012743      0.001605         0.000000        0.000000   \n",
              "23       0.011394      0.000222         0.000000        0.000000   \n",
              "\n",
              "   param_criterion param_max_depth param_splitter  \\\n",
              "0             gini               2           best   \n",
              "1             gini               2         random   \n",
              "2             gini               3           best   \n",
              "3             gini               3         random   \n",
              "4             gini               4           best   \n",
              "5             gini               4         random   \n",
              "6             gini               5           best   \n",
              "7             gini               5         random   \n",
              "8          entropy               2           best   \n",
              "9          entropy               2         random   \n",
              "10         entropy               3           best   \n",
              "11         entropy               3         random   \n",
              "12         entropy               4           best   \n",
              "13         entropy               4         random   \n",
              "14         entropy               5           best   \n",
              "15         entropy               5         random   \n",
              "16        log_loss               2           best   \n",
              "17        log_loss               2         random   \n",
              "18        log_loss               3           best   \n",
              "19        log_loss               3         random   \n",
              "20        log_loss               4           best   \n",
              "21        log_loss               4         random   \n",
              "22        log_loss               5           best   \n",
              "23        log_loss               5         random   \n",
              "\n",
              "                                               params  split0_test_score  \\\n",
              "0   {'criterion': 'gini', 'max_depth': 2, 'splitte...           0.768204   \n",
              "1   {'criterion': 'gini', 'max_depth': 2, 'splitte...           0.750000   \n",
              "2   {'criterion': 'gini', 'max_depth': 3, 'splitte...           0.768204   \n",
              "3   {'criterion': 'gini', 'max_depth': 3, 'splitte...           0.761866   \n",
              "4   {'criterion': 'gini', 'max_depth': 4, 'splitte...           0.786138   \n",
              "5   {'criterion': 'gini', 'max_depth': 4, 'splitte...           0.761327   \n",
              "6   {'criterion': 'gini', 'max_depth': 5, 'splitte...           0.809331   \n",
              "7   {'criterion': 'gini', 'max_depth': 5, 'splitte...           0.780070   \n",
              "8   {'criterion': 'entropy', 'max_depth': 2, 'spli...           0.767665   \n",
              "9   {'criterion': 'entropy', 'max_depth': 2, 'spli...           0.750000   \n",
              "10  {'criterion': 'entropy', 'max_depth': 3, 'spli...           0.767799   \n",
              "11  {'criterion': 'entropy', 'max_depth': 3, 'spli...           0.768743   \n",
              "12  {'criterion': 'entropy', 'max_depth': 4, 'spli...           0.784115   \n",
              "13  {'criterion': 'entropy', 'max_depth': 4, 'spli...           0.775216   \n",
              "14  {'criterion': 'entropy', 'max_depth': 5, 'spli...           0.807578   \n",
              "15  {'criterion': 'entropy', 'max_depth': 5, 'spli...           0.766990   \n",
              "16  {'criterion': 'log_loss', 'max_depth': 2, 'spl...                NaN   \n",
              "17  {'criterion': 'log_loss', 'max_depth': 2, 'spl...                NaN   \n",
              "18  {'criterion': 'log_loss', 'max_depth': 3, 'spl...                NaN   \n",
              "19  {'criterion': 'log_loss', 'max_depth': 3, 'spl...                NaN   \n",
              "20  {'criterion': 'log_loss', 'max_depth': 4, 'spl...                NaN   \n",
              "21  {'criterion': 'log_loss', 'max_depth': 4, 'spl...                NaN   \n",
              "22  {'criterion': 'log_loss', 'max_depth': 5, 'spl...                NaN   \n",
              "23  {'criterion': 'log_loss', 'max_depth': 5, 'spl...                NaN   \n",
              "\n",
              "    split1_test_score  split2_test_score  split3_test_score  \\\n",
              "0            0.781419           0.779126           0.786408   \n",
              "1            0.762945           0.758765           0.765237   \n",
              "2            0.781419           0.779126           0.786408   \n",
              "3            0.789239           0.790858           0.789374   \n",
              "4            0.802184           0.801106           0.808927   \n",
              "5            0.798409           0.793150           0.806634   \n",
              "6            0.824029           0.816343           0.822276   \n",
              "7            0.789644           0.781014           0.797735   \n",
              "8            0.780879           0.777778           0.785868   \n",
              "9            0.775081           0.773598           0.770901   \n",
              "10           0.780609           0.777778           0.786138   \n",
              "11           0.782362           0.777643           0.798813   \n",
              "12           0.800027           0.798813           0.807443   \n",
              "13           0.780609           0.785194           0.781688   \n",
              "14           0.820793           0.814455           0.821467   \n",
              "15           0.796926           0.798139           0.808387   \n",
              "16                NaN                NaN                NaN   \n",
              "17                NaN                NaN                NaN   \n",
              "18                NaN                NaN                NaN   \n",
              "19                NaN                NaN                NaN   \n",
              "20                NaN                NaN                NaN   \n",
              "21                NaN                NaN                NaN   \n",
              "22                NaN                NaN                NaN   \n",
              "23                NaN                NaN                NaN   \n",
              "\n",
              "    split4_test_score  mean_test_score  std_test_score  rank_test_score  \n",
              "0            0.784790         0.779989        0.006418               11  \n",
              "1            0.764833         0.760356        0.005663               16  \n",
              "2            0.781553         0.779342        0.006054               12  \n",
              "3            0.773193         0.780906        0.011508                9  \n",
              "4            0.799353         0.799542        0.007446                3  \n",
              "5            0.788970         0.789698        0.015363                7  \n",
              "6            0.815129         0.817422        0.005274                1  \n",
              "7            0.801375         0.789968        0.008587                6  \n",
              "8            0.783981         0.779234        0.006407               14  \n",
              "9            0.777238         0.769364        0.009899               15  \n",
              "10           0.783981         0.779261        0.006402               13  \n",
              "11           0.776429         0.780798        0.010014               10  \n",
              "12           0.799622         0.798004        0.007607                4  \n",
              "13           0.782497         0.781041        0.003284                8  \n",
              "14           0.811354         0.815129        0.005366                2  \n",
              "15           0.790049         0.792098        0.013855                5  \n",
              "16                NaN              NaN             NaN               18  \n",
              "17                NaN              NaN             NaN               19  \n",
              "18                NaN              NaN             NaN               20  \n",
              "19                NaN              NaN             NaN               21  \n",
              "20                NaN              NaN             NaN               22  \n",
              "21                NaN              NaN             NaN               23  \n",
              "22                NaN              NaN             NaN               17  \n",
              "23                NaN              NaN             NaN               24  "
            ],
            "text/html": [
              "\n",
              "  <div id=\"df-2569c99e-2681-468b-854e-ca3f8c226630\">\n",
              "    <div class=\"colab-df-container\">\n",
              "      <div>\n",
              "<style scoped>\n",
              "    .dataframe tbody tr th:only-of-type {\n",
              "        vertical-align: middle;\n",
              "    }\n",
              "\n",
              "    .dataframe tbody tr th {\n",
              "        vertical-align: top;\n",
              "    }\n",
              "\n",
              "    .dataframe thead th {\n",
              "        text-align: right;\n",
              "    }\n",
              "</style>\n",
              "<table border=\"1\" class=\"dataframe\">\n",
              "  <thead>\n",
              "    <tr style=\"text-align: right;\">\n",
              "      <th></th>\n",
              "      <th>mean_fit_time</th>\n",
              "      <th>std_fit_time</th>\n",
              "      <th>mean_score_time</th>\n",
              "      <th>std_score_time</th>\n",
              "      <th>param_criterion</th>\n",
              "      <th>param_max_depth</th>\n",
              "      <th>param_splitter</th>\n",
              "      <th>params</th>\n",
              "      <th>split0_test_score</th>\n",
              "      <th>split1_test_score</th>\n",
              "      <th>split2_test_score</th>\n",
              "      <th>split3_test_score</th>\n",
              "      <th>split4_test_score</th>\n",
              "      <th>mean_test_score</th>\n",
              "      <th>std_test_score</th>\n",
              "      <th>rank_test_score</th>\n",
              "    </tr>\n",
              "  </thead>\n",
              "  <tbody>\n",
              "    <tr>\n",
              "      <th>0</th>\n",
              "      <td>0.023916</td>\n",
              "      <td>0.000887</td>\n",
              "      <td>0.003849</td>\n",
              "      <td>0.000118</td>\n",
              "      <td>gini</td>\n",
              "      <td>2</td>\n",
              "      <td>best</td>\n",
              "      <td>{'criterion': 'gini', 'max_depth': 2, 'splitte...</td>\n",
              "      <td>0.768204</td>\n",
              "      <td>0.781419</td>\n",
              "      <td>0.779126</td>\n",
              "      <td>0.786408</td>\n",
              "      <td>0.784790</td>\n",
              "      <td>0.779989</td>\n",
              "      <td>0.006418</td>\n",
              "      <td>11</td>\n",
              "    </tr>\n",
              "    <tr>\n",
              "      <th>1</th>\n",
              "      <td>0.020954</td>\n",
              "      <td>0.005054</td>\n",
              "      <td>0.004142</td>\n",
              "      <td>0.000673</td>\n",
              "      <td>gini</td>\n",
              "      <td>2</td>\n",
              "      <td>random</td>\n",
              "      <td>{'criterion': 'gini', 'max_depth': 2, 'splitte...</td>\n",
              "      <td>0.750000</td>\n",
              "      <td>0.762945</td>\n",
              "      <td>0.758765</td>\n",
              "      <td>0.765237</td>\n",
              "      <td>0.764833</td>\n",
              "      <td>0.760356</td>\n",
              "      <td>0.005663</td>\n",
              "      <td>16</td>\n",
              "    </tr>\n",
              "    <tr>\n",
              "      <th>2</th>\n",
              "      <td>0.029448</td>\n",
              "      <td>0.001493</td>\n",
              "      <td>0.003795</td>\n",
              "      <td>0.000051</td>\n",
              "      <td>gini</td>\n",
              "      <td>3</td>\n",
              "      <td>best</td>\n",
              "      <td>{'criterion': 'gini', 'max_depth': 3, 'splitte...</td>\n",
              "      <td>0.768204</td>\n",
              "      <td>0.781419</td>\n",
              "      <td>0.779126</td>\n",
              "      <td>0.786408</td>\n",
              "      <td>0.781553</td>\n",
              "      <td>0.779342</td>\n",
              "      <td>0.006054</td>\n",
              "      <td>12</td>\n",
              "    </tr>\n",
              "    <tr>\n",
              "      <th>3</th>\n",
              "      <td>0.020522</td>\n",
              "      <td>0.000289</td>\n",
              "      <td>0.003748</td>\n",
              "      <td>0.000084</td>\n",
              "      <td>gini</td>\n",
              "      <td>3</td>\n",
              "      <td>random</td>\n",
              "      <td>{'criterion': 'gini', 'max_depth': 3, 'splitte...</td>\n",
              "      <td>0.761866</td>\n",
              "      <td>0.789239</td>\n",
              "      <td>0.790858</td>\n",
              "      <td>0.789374</td>\n",
              "      <td>0.773193</td>\n",
              "      <td>0.780906</td>\n",
              "      <td>0.011508</td>\n",
              "      <td>9</td>\n",
              "    </tr>\n",
              "    <tr>\n",
              "      <th>4</th>\n",
              "      <td>0.034215</td>\n",
              "      <td>0.000682</td>\n",
              "      <td>0.003841</td>\n",
              "      <td>0.000044</td>\n",
              "      <td>gini</td>\n",
              "      <td>4</td>\n",
              "      <td>best</td>\n",
              "      <td>{'criterion': 'gini', 'max_depth': 4, 'splitte...</td>\n",
              "      <td>0.786138</td>\n",
              "      <td>0.802184</td>\n",
              "      <td>0.801106</td>\n",
              "      <td>0.808927</td>\n",
              "      <td>0.799353</td>\n",
              "      <td>0.799542</td>\n",
              "      <td>0.007446</td>\n",
              "      <td>3</td>\n",
              "    </tr>\n",
              "    <tr>\n",
              "      <th>5</th>\n",
              "      <td>0.027985</td>\n",
              "      <td>0.003620</td>\n",
              "      <td>0.004142</td>\n",
              "      <td>0.000519</td>\n",
              "      <td>gini</td>\n",
              "      <td>4</td>\n",
              "      <td>random</td>\n",
              "      <td>{'criterion': 'gini', 'max_depth': 4, 'splitte...</td>\n",
              "      <td>0.761327</td>\n",
              "      <td>0.798409</td>\n",
              "      <td>0.793150</td>\n",
              "      <td>0.806634</td>\n",
              "      <td>0.788970</td>\n",
              "      <td>0.789698</td>\n",
              "      <td>0.015363</td>\n",
              "      <td>7</td>\n",
              "    </tr>\n",
              "    <tr>\n",
              "      <th>6</th>\n",
              "      <td>0.039450</td>\n",
              "      <td>0.001717</td>\n",
              "      <td>0.003930</td>\n",
              "      <td>0.000048</td>\n",
              "      <td>gini</td>\n",
              "      <td>5</td>\n",
              "      <td>best</td>\n",
              "      <td>{'criterion': 'gini', 'max_depth': 5, 'splitte...</td>\n",
              "      <td>0.809331</td>\n",
              "      <td>0.824029</td>\n",
              "      <td>0.816343</td>\n",
              "      <td>0.822276</td>\n",
              "      <td>0.815129</td>\n",
              "      <td>0.817422</td>\n",
              "      <td>0.005274</td>\n",
              "      <td>1</td>\n",
              "    </tr>\n",
              "    <tr>\n",
              "      <th>7</th>\n",
              "      <td>0.028516</td>\n",
              "      <td>0.002916</td>\n",
              "      <td>0.004455</td>\n",
              "      <td>0.000775</td>\n",
              "      <td>gini</td>\n",
              "      <td>5</td>\n",
              "      <td>random</td>\n",
              "      <td>{'criterion': 'gini', 'max_depth': 5, 'splitte...</td>\n",
              "      <td>0.780070</td>\n",
              "      <td>0.789644</td>\n",
              "      <td>0.781014</td>\n",
              "      <td>0.797735</td>\n",
              "      <td>0.801375</td>\n",
              "      <td>0.789968</td>\n",
              "      <td>0.008587</td>\n",
              "      <td>6</td>\n",
              "    </tr>\n",
              "    <tr>\n",
              "      <th>8</th>\n",
              "      <td>0.023485</td>\n",
              "      <td>0.000308</td>\n",
              "      <td>0.003718</td>\n",
              "      <td>0.000037</td>\n",
              "      <td>entropy</td>\n",
              "      <td>2</td>\n",
              "      <td>best</td>\n",
              "      <td>{'criterion': 'entropy', 'max_depth': 2, 'spli...</td>\n",
              "      <td>0.767665</td>\n",
              "      <td>0.780879</td>\n",
              "      <td>0.777778</td>\n",
              "      <td>0.785868</td>\n",
              "      <td>0.783981</td>\n",
              "      <td>0.779234</td>\n",
              "      <td>0.006407</td>\n",
              "      <td>14</td>\n",
              "    </tr>\n",
              "    <tr>\n",
              "      <th>9</th>\n",
              "      <td>0.018057</td>\n",
              "      <td>0.000420</td>\n",
              "      <td>0.003761</td>\n",
              "      <td>0.000281</td>\n",
              "      <td>entropy</td>\n",
              "      <td>2</td>\n",
              "      <td>random</td>\n",
              "      <td>{'criterion': 'entropy', 'max_depth': 2, 'spli...</td>\n",
              "      <td>0.750000</td>\n",
              "      <td>0.775081</td>\n",
              "      <td>0.773598</td>\n",
              "      <td>0.770901</td>\n",
              "      <td>0.777238</td>\n",
              "      <td>0.769364</td>\n",
              "      <td>0.009899</td>\n",
              "      <td>15</td>\n",
              "    </tr>\n",
              "    <tr>\n",
              "      <th>10</th>\n",
              "      <td>0.029094</td>\n",
              "      <td>0.000856</td>\n",
              "      <td>0.003845</td>\n",
              "      <td>0.000163</td>\n",
              "      <td>entropy</td>\n",
              "      <td>3</td>\n",
              "      <td>best</td>\n",
              "      <td>{'criterion': 'entropy', 'max_depth': 3, 'spli...</td>\n",
              "      <td>0.767799</td>\n",
              "      <td>0.780609</td>\n",
              "      <td>0.777778</td>\n",
              "      <td>0.786138</td>\n",
              "      <td>0.783981</td>\n",
              "      <td>0.779261</td>\n",
              "      <td>0.006402</td>\n",
              "      <td>13</td>\n",
              "    </tr>\n",
              "    <tr>\n",
              "      <th>11</th>\n",
              "      <td>0.021921</td>\n",
              "      <td>0.001736</td>\n",
              "      <td>0.004068</td>\n",
              "      <td>0.000546</td>\n",
              "      <td>entropy</td>\n",
              "      <td>3</td>\n",
              "      <td>random</td>\n",
              "      <td>{'criterion': 'entropy', 'max_depth': 3, 'spli...</td>\n",
              "      <td>0.768743</td>\n",
              "      <td>0.782362</td>\n",
              "      <td>0.777643</td>\n",
              "      <td>0.798813</td>\n",
              "      <td>0.776429</td>\n",
              "      <td>0.780798</td>\n",
              "      <td>0.010014</td>\n",
              "      <td>10</td>\n",
              "    </tr>\n",
              "    <tr>\n",
              "      <th>12</th>\n",
              "      <td>0.034896</td>\n",
              "      <td>0.001709</td>\n",
              "      <td>0.004034</td>\n",
              "      <td>0.000424</td>\n",
              "      <td>entropy</td>\n",
              "      <td>4</td>\n",
              "      <td>best</td>\n",
              "      <td>{'criterion': 'entropy', 'max_depth': 4, 'spli...</td>\n",
              "      <td>0.784115</td>\n",
              "      <td>0.800027</td>\n",
              "      <td>0.798813</td>\n",
              "      <td>0.807443</td>\n",
              "      <td>0.799622</td>\n",
              "      <td>0.798004</td>\n",
              "      <td>0.007607</td>\n",
              "      <td>4</td>\n",
              "    </tr>\n",
              "    <tr>\n",
              "      <th>13</th>\n",
              "      <td>0.023634</td>\n",
              "      <td>0.001836</td>\n",
              "      <td>0.004312</td>\n",
              "      <td>0.000760</td>\n",
              "      <td>entropy</td>\n",
              "      <td>4</td>\n",
              "      <td>random</td>\n",
              "      <td>{'criterion': 'entropy', 'max_depth': 4, 'spli...</td>\n",
              "      <td>0.775216</td>\n",
              "      <td>0.780609</td>\n",
              "      <td>0.785194</td>\n",
              "      <td>0.781688</td>\n",
              "      <td>0.782497</td>\n",
              "      <td>0.781041</td>\n",
              "      <td>0.003284</td>\n",
              "      <td>8</td>\n",
              "    </tr>\n",
              "    <tr>\n",
              "      <th>14</th>\n",
              "      <td>0.040004</td>\n",
              "      <td>0.000648</td>\n",
              "      <td>0.004257</td>\n",
              "      <td>0.000647</td>\n",
              "      <td>entropy</td>\n",
              "      <td>5</td>\n",
              "      <td>best</td>\n",
              "      <td>{'criterion': 'entropy', 'max_depth': 5, 'spli...</td>\n",
              "      <td>0.807578</td>\n",
              "      <td>0.820793</td>\n",
              "      <td>0.814455</td>\n",
              "      <td>0.821467</td>\n",
              "      <td>0.811354</td>\n",
              "      <td>0.815129</td>\n",
              "      <td>0.005366</td>\n",
              "      <td>2</td>\n",
              "    </tr>\n",
              "    <tr>\n",
              "      <th>15</th>\n",
              "      <td>0.027607</td>\n",
              "      <td>0.003325</td>\n",
              "      <td>0.004049</td>\n",
              "      <td>0.000144</td>\n",
              "      <td>entropy</td>\n",
              "      <td>5</td>\n",
              "      <td>random</td>\n",
              "      <td>{'criterion': 'entropy', 'max_depth': 5, 'spli...</td>\n",
              "      <td>0.766990</td>\n",
              "      <td>0.796926</td>\n",
              "      <td>0.798139</td>\n",
              "      <td>0.808387</td>\n",
              "      <td>0.790049</td>\n",
              "      <td>0.792098</td>\n",
              "      <td>0.013855</td>\n",
              "      <td>5</td>\n",
              "    </tr>\n",
              "    <tr>\n",
              "      <th>16</th>\n",
              "      <td>0.011364</td>\n",
              "      <td>0.000159</td>\n",
              "      <td>0.000000</td>\n",
              "      <td>0.000000</td>\n",
              "      <td>log_loss</td>\n",
              "      <td>2</td>\n",
              "      <td>best</td>\n",
              "      <td>{'criterion': 'log_loss', 'max_depth': 2, 'spl...</td>\n",
              "      <td>NaN</td>\n",
              "      <td>NaN</td>\n",
              "      <td>NaN</td>\n",
              "      <td>NaN</td>\n",
              "      <td>NaN</td>\n",
              "      <td>NaN</td>\n",
              "      <td>NaN</td>\n",
              "      <td>18</td>\n",
              "    </tr>\n",
              "    <tr>\n",
              "      <th>17</th>\n",
              "      <td>0.011421</td>\n",
              "      <td>0.000180</td>\n",
              "      <td>0.000000</td>\n",
              "      <td>0.000000</td>\n",
              "      <td>log_loss</td>\n",
              "      <td>2</td>\n",
              "      <td>random</td>\n",
              "      <td>{'criterion': 'log_loss', 'max_depth': 2, 'spl...</td>\n",
              "      <td>NaN</td>\n",
              "      <td>NaN</td>\n",
              "      <td>NaN</td>\n",
              "      <td>NaN</td>\n",
              "      <td>NaN</td>\n",
              "      <td>NaN</td>\n",
              "      <td>NaN</td>\n",
              "      <td>19</td>\n",
              "    </tr>\n",
              "    <tr>\n",
              "      <th>18</th>\n",
              "      <td>0.011179</td>\n",
              "      <td>0.000116</td>\n",
              "      <td>0.000000</td>\n",
              "      <td>0.000000</td>\n",
              "      <td>log_loss</td>\n",
              "      <td>3</td>\n",
              "      <td>best</td>\n",
              "      <td>{'criterion': 'log_loss', 'max_depth': 3, 'spl...</td>\n",
              "      <td>NaN</td>\n",
              "      <td>NaN</td>\n",
              "      <td>NaN</td>\n",
              "      <td>NaN</td>\n",
              "      <td>NaN</td>\n",
              "      <td>NaN</td>\n",
              "      <td>NaN</td>\n",
              "      <td>20</td>\n",
              "    </tr>\n",
              "    <tr>\n",
              "      <th>19</th>\n",
              "      <td>0.011567</td>\n",
              "      <td>0.000290</td>\n",
              "      <td>0.000000</td>\n",
              "      <td>0.000000</td>\n",
              "      <td>log_loss</td>\n",
              "      <td>3</td>\n",
              "      <td>random</td>\n",
              "      <td>{'criterion': 'log_loss', 'max_depth': 3, 'spl...</td>\n",
              "      <td>NaN</td>\n",
              "      <td>NaN</td>\n",
              "      <td>NaN</td>\n",
              "      <td>NaN</td>\n",
              "      <td>NaN</td>\n",
              "      <td>NaN</td>\n",
              "      <td>NaN</td>\n",
              "      <td>21</td>\n",
              "    </tr>\n",
              "    <tr>\n",
              "      <th>20</th>\n",
              "      <td>0.011005</td>\n",
              "      <td>0.000114</td>\n",
              "      <td>0.000000</td>\n",
              "      <td>0.000000</td>\n",
              "      <td>log_loss</td>\n",
              "      <td>4</td>\n",
              "      <td>best</td>\n",
              "      <td>{'criterion': 'log_loss', 'max_depth': 4, 'spl...</td>\n",
              "      <td>NaN</td>\n",
              "      <td>NaN</td>\n",
              "      <td>NaN</td>\n",
              "      <td>NaN</td>\n",
              "      <td>NaN</td>\n",
              "      <td>NaN</td>\n",
              "      <td>NaN</td>\n",
              "      <td>22</td>\n",
              "    </tr>\n",
              "    <tr>\n",
              "      <th>21</th>\n",
              "      <td>0.011215</td>\n",
              "      <td>0.000360</td>\n",
              "      <td>0.000000</td>\n",
              "      <td>0.000000</td>\n",
              "      <td>log_loss</td>\n",
              "      <td>4</td>\n",
              "      <td>random</td>\n",
              "      <td>{'criterion': 'log_loss', 'max_depth': 4, 'spl...</td>\n",
              "      <td>NaN</td>\n",
              "      <td>NaN</td>\n",
              "      <td>NaN</td>\n",
              "      <td>NaN</td>\n",
              "      <td>NaN</td>\n",
              "      <td>NaN</td>\n",
              "      <td>NaN</td>\n",
              "      <td>23</td>\n",
              "    </tr>\n",
              "    <tr>\n",
              "      <th>22</th>\n",
              "      <td>0.012743</td>\n",
              "      <td>0.001605</td>\n",
              "      <td>0.000000</td>\n",
              "      <td>0.000000</td>\n",
              "      <td>log_loss</td>\n",
              "      <td>5</td>\n",
              "      <td>best</td>\n",
              "      <td>{'criterion': 'log_loss', 'max_depth': 5, 'spl...</td>\n",
              "      <td>NaN</td>\n",
              "      <td>NaN</td>\n",
              "      <td>NaN</td>\n",
              "      <td>NaN</td>\n",
              "      <td>NaN</td>\n",
              "      <td>NaN</td>\n",
              "      <td>NaN</td>\n",
              "      <td>17</td>\n",
              "    </tr>\n",
              "    <tr>\n",
              "      <th>23</th>\n",
              "      <td>0.011394</td>\n",
              "      <td>0.000222</td>\n",
              "      <td>0.000000</td>\n",
              "      <td>0.000000</td>\n",
              "      <td>log_loss</td>\n",
              "      <td>5</td>\n",
              "      <td>random</td>\n",
              "      <td>{'criterion': 'log_loss', 'max_depth': 5, 'spl...</td>\n",
              "      <td>NaN</td>\n",
              "      <td>NaN</td>\n",
              "      <td>NaN</td>\n",
              "      <td>NaN</td>\n",
              "      <td>NaN</td>\n",
              "      <td>NaN</td>\n",
              "      <td>NaN</td>\n",
              "      <td>24</td>\n",
              "    </tr>\n",
              "  </tbody>\n",
              "</table>\n",
              "</div>\n",
              "      <button class=\"colab-df-convert\" onclick=\"convertToInteractive('df-2569c99e-2681-468b-854e-ca3f8c226630')\"\n",
              "              title=\"Convert this dataframe to an interactive table.\"\n",
              "              style=\"display:none;\">\n",
              "        \n",
              "  <svg xmlns=\"http://www.w3.org/2000/svg\" height=\"24px\"viewBox=\"0 0 24 24\"\n",
              "       width=\"24px\">\n",
              "    <path d=\"M0 0h24v24H0V0z\" fill=\"none\"/>\n",
              "    <path d=\"M18.56 5.44l.94 2.06.94-2.06 2.06-.94-2.06-.94-.94-2.06-.94 2.06-2.06.94zm-11 1L8.5 8.5l.94-2.06 2.06-.94-2.06-.94L8.5 2.5l-.94 2.06-2.06.94zm10 10l.94 2.06.94-2.06 2.06-.94-2.06-.94-.94-2.06-.94 2.06-2.06.94z\"/><path d=\"M17.41 7.96l-1.37-1.37c-.4-.4-.92-.59-1.43-.59-.52 0-1.04.2-1.43.59L10.3 9.45l-7.72 7.72c-.78.78-.78 2.05 0 2.83L4 21.41c.39.39.9.59 1.41.59.51 0 1.02-.2 1.41-.59l7.78-7.78 2.81-2.81c.8-.78.8-2.07 0-2.86zM5.41 20L4 18.59l7.72-7.72 1.47 1.35L5.41 20z\"/>\n",
              "  </svg>\n",
              "      </button>\n",
              "      \n",
              "  <style>\n",
              "    .colab-df-container {\n",
              "      display:flex;\n",
              "      flex-wrap:wrap;\n",
              "      gap: 12px;\n",
              "    }\n",
              "\n",
              "    .colab-df-convert {\n",
              "      background-color: #E8F0FE;\n",
              "      border: none;\n",
              "      border-radius: 50%;\n",
              "      cursor: pointer;\n",
              "      display: none;\n",
              "      fill: #1967D2;\n",
              "      height: 32px;\n",
              "      padding: 0 0 0 0;\n",
              "      width: 32px;\n",
              "    }\n",
              "\n",
              "    .colab-df-convert:hover {\n",
              "      background-color: #E2EBFA;\n",
              "      box-shadow: 0px 1px 2px rgba(60, 64, 67, 0.3), 0px 1px 3px 1px rgba(60, 64, 67, 0.15);\n",
              "      fill: #174EA6;\n",
              "    }\n",
              "\n",
              "    [theme=dark] .colab-df-convert {\n",
              "      background-color: #3B4455;\n",
              "      fill: #D2E3FC;\n",
              "    }\n",
              "\n",
              "    [theme=dark] .colab-df-convert:hover {\n",
              "      background-color: #434B5C;\n",
              "      box-shadow: 0px 1px 3px 1px rgba(0, 0, 0, 0.15);\n",
              "      filter: drop-shadow(0px 1px 2px rgba(0, 0, 0, 0.3));\n",
              "      fill: #FFFFFF;\n",
              "    }\n",
              "  </style>\n",
              "\n",
              "      <script>\n",
              "        const buttonEl =\n",
              "          document.querySelector('#df-2569c99e-2681-468b-854e-ca3f8c226630 button.colab-df-convert');\n",
              "        buttonEl.style.display =\n",
              "          google.colab.kernel.accessAllowed ? 'block' : 'none';\n",
              "\n",
              "        async function convertToInteractive(key) {\n",
              "          const element = document.querySelector('#df-2569c99e-2681-468b-854e-ca3f8c226630');\n",
              "          const dataTable =\n",
              "            await google.colab.kernel.invokeFunction('convertToInteractive',\n",
              "                                                     [key], {});\n",
              "          if (!dataTable) return;\n",
              "\n",
              "          const docLinkHtml = 'Like what you see? Visit the ' +\n",
              "            '<a target=\"_blank\" href=https://colab.research.google.com/notebooks/data_table.ipynb>data table notebook</a>'\n",
              "            + ' to learn more about interactive tables.';\n",
              "          element.innerHTML = '';\n",
              "          dataTable['output_type'] = 'display_data';\n",
              "          await google.colab.output.renderOutput(dataTable, element);\n",
              "          const docLink = document.createElement('div');\n",
              "          docLink.innerHTML = docLinkHtml;\n",
              "          element.appendChild(docLink);\n",
              "        }\n",
              "      </script>\n",
              "    </div>\n",
              "  </div>\n",
              "  "
            ]
          },
          "metadata": {},
          "execution_count": 124
        }
      ]
    },
    {
      "cell_type": "code",
      "source": [
        "grid.best_params_"
      ],
      "metadata": {
        "colab": {
          "base_uri": "https://localhost:8080/"
        },
        "id": "91L-Am_u8hU7",
        "outputId": "27f4060f-73a5-4761-88ca-036d24caba25"
      },
      "execution_count": 120,
      "outputs": [
        {
          "output_type": "execute_result",
          "data": {
            "text/plain": [
              "{'criterion': 'gini', 'max_depth': 5, 'n_estimators': 200}"
            ]
          },
          "metadata": {},
          "execution_count": 120
        }
      ]
    },
    {
      "cell_type": "code",
      "source": [
        "params = {\n",
        "    'criterion' : ['gini', 'entropy', 'log_loss'],\n",
        "    'splitter' :['best', 'random'],\n",
        "    'max_depth' : [2,3,4,5]\n",
        "}\n",
        "\n",
        "tree = DecisionTreeClassifier()\n",
        "\n",
        "grid = GridSearchCV(estimator = tree, param_grid = params, cv = 5, scoring = 'accuracy')\n",
        "grid.fit(X_train, y_train)"
      ],
      "metadata": {
        "colab": {
          "base_uri": "https://localhost:8080/"
        },
        "id": "jXPdch_E9Qjr",
        "outputId": "b7e54763-c3cb-4c7f-ffab-e84d10b16ee8"
      },
      "execution_count": 121,
      "outputs": [
        {
          "output_type": "stream",
          "name": "stderr",
          "text": [
            "/usr/local/lib/python3.8/dist-packages/sklearn/model_selection/_validation.py:372: FitFailedWarning: \n",
            "40 fits failed out of a total of 120.\n",
            "The score on these train-test partitions for these parameters will be set to nan.\n",
            "If these failures are not expected, you can try to debug them by setting error_score='raise'.\n",
            "\n",
            "Below are more details about the failures:\n",
            "--------------------------------------------------------------------------------\n",
            "40 fits failed with the following error:\n",
            "Traceback (most recent call last):\n",
            "  File \"/usr/local/lib/python3.8/dist-packages/sklearn/model_selection/_validation.py\", line 680, in _fit_and_score\n",
            "    estimator.fit(X_train, y_train, **fit_params)\n",
            "  File \"/usr/local/lib/python3.8/dist-packages/sklearn/tree/_classes.py\", line 937, in fit\n",
            "    super().fit(\n",
            "  File \"/usr/local/lib/python3.8/dist-packages/sklearn/tree/_classes.py\", line 352, in fit\n",
            "    criterion = CRITERIA_CLF[self.criterion](\n",
            "KeyError: 'log_loss'\n",
            "\n",
            "  warnings.warn(some_fits_failed_message, FitFailedWarning)\n",
            "/usr/local/lib/python3.8/dist-packages/sklearn/model_selection/_search.py:969: UserWarning: One or more of the test scores are non-finite: [0.77998921 0.76035599 0.77934196 0.78090615 0.79954153 0.78969795\n",
            " 0.81742179 0.78996764 0.77923409 0.76936354 0.77926106 0.78079827\n",
            " 0.79800431 0.78104099 0.81512945 0.79209817        nan        nan\n",
            "        nan        nan        nan        nan        nan        nan]\n",
            "  warnings.warn(\n"
          ]
        },
        {
          "output_type": "execute_result",
          "data": {
            "text/plain": [
              "GridSearchCV(cv=5, estimator=DecisionTreeClassifier(),\n",
              "             param_grid={'criterion': ['gini', 'entropy', 'log_loss'],\n",
              "                         'max_depth': [2, 3, 4, 5],\n",
              "                         'splitter': ['best', 'random']},\n",
              "             scoring='accuracy')"
            ]
          },
          "metadata": {},
          "execution_count": 121
        }
      ]
    },
    {
      "cell_type": "code",
      "source": [
        "pd.DataFrame(grid.cv_results_)"
      ],
      "metadata": {
        "colab": {
          "base_uri": "https://localhost:8080/",
          "height": 1000
        },
        "id": "WCFOGUJo9mU7",
        "outputId": "b58a5805-2155-41b8-9bb5-f2805ba4707e"
      },
      "execution_count": 125,
      "outputs": [
        {
          "output_type": "execute_result",
          "data": {
            "text/plain": [
              "    mean_fit_time  std_fit_time  mean_score_time  std_score_time  \\\n",
              "0        0.023916      0.000887         0.003849        0.000118   \n",
              "1        0.020954      0.005054         0.004142        0.000673   \n",
              "2        0.029448      0.001493         0.003795        0.000051   \n",
              "3        0.020522      0.000289         0.003748        0.000084   \n",
              "4        0.034215      0.000682         0.003841        0.000044   \n",
              "5        0.027985      0.003620         0.004142        0.000519   \n",
              "6        0.039450      0.001717         0.003930        0.000048   \n",
              "7        0.028516      0.002916         0.004455        0.000775   \n",
              "8        0.023485      0.000308         0.003718        0.000037   \n",
              "9        0.018057      0.000420         0.003761        0.000281   \n",
              "10       0.029094      0.000856         0.003845        0.000163   \n",
              "11       0.021921      0.001736         0.004068        0.000546   \n",
              "12       0.034896      0.001709         0.004034        0.000424   \n",
              "13       0.023634      0.001836         0.004312        0.000760   \n",
              "14       0.040004      0.000648         0.004257        0.000647   \n",
              "15       0.027607      0.003325         0.004049        0.000144   \n",
              "16       0.011364      0.000159         0.000000        0.000000   \n",
              "17       0.011421      0.000180         0.000000        0.000000   \n",
              "18       0.011179      0.000116         0.000000        0.000000   \n",
              "19       0.011567      0.000290         0.000000        0.000000   \n",
              "20       0.011005      0.000114         0.000000        0.000000   \n",
              "21       0.011215      0.000360         0.000000        0.000000   \n",
              "22       0.012743      0.001605         0.000000        0.000000   \n",
              "23       0.011394      0.000222         0.000000        0.000000   \n",
              "\n",
              "   param_criterion param_max_depth param_splitter  \\\n",
              "0             gini               2           best   \n",
              "1             gini               2         random   \n",
              "2             gini               3           best   \n",
              "3             gini               3         random   \n",
              "4             gini               4           best   \n",
              "5             gini               4         random   \n",
              "6             gini               5           best   \n",
              "7             gini               5         random   \n",
              "8          entropy               2           best   \n",
              "9          entropy               2         random   \n",
              "10         entropy               3           best   \n",
              "11         entropy               3         random   \n",
              "12         entropy               4           best   \n",
              "13         entropy               4         random   \n",
              "14         entropy               5           best   \n",
              "15         entropy               5         random   \n",
              "16        log_loss               2           best   \n",
              "17        log_loss               2         random   \n",
              "18        log_loss               3           best   \n",
              "19        log_loss               3         random   \n",
              "20        log_loss               4           best   \n",
              "21        log_loss               4         random   \n",
              "22        log_loss               5           best   \n",
              "23        log_loss               5         random   \n",
              "\n",
              "                                               params  split0_test_score  \\\n",
              "0   {'criterion': 'gini', 'max_depth': 2, 'splitte...           0.768204   \n",
              "1   {'criterion': 'gini', 'max_depth': 2, 'splitte...           0.750000   \n",
              "2   {'criterion': 'gini', 'max_depth': 3, 'splitte...           0.768204   \n",
              "3   {'criterion': 'gini', 'max_depth': 3, 'splitte...           0.761866   \n",
              "4   {'criterion': 'gini', 'max_depth': 4, 'splitte...           0.786138   \n",
              "5   {'criterion': 'gini', 'max_depth': 4, 'splitte...           0.761327   \n",
              "6   {'criterion': 'gini', 'max_depth': 5, 'splitte...           0.809331   \n",
              "7   {'criterion': 'gini', 'max_depth': 5, 'splitte...           0.780070   \n",
              "8   {'criterion': 'entropy', 'max_depth': 2, 'spli...           0.767665   \n",
              "9   {'criterion': 'entropy', 'max_depth': 2, 'spli...           0.750000   \n",
              "10  {'criterion': 'entropy', 'max_depth': 3, 'spli...           0.767799   \n",
              "11  {'criterion': 'entropy', 'max_depth': 3, 'spli...           0.768743   \n",
              "12  {'criterion': 'entropy', 'max_depth': 4, 'spli...           0.784115   \n",
              "13  {'criterion': 'entropy', 'max_depth': 4, 'spli...           0.775216   \n",
              "14  {'criterion': 'entropy', 'max_depth': 5, 'spli...           0.807578   \n",
              "15  {'criterion': 'entropy', 'max_depth': 5, 'spli...           0.766990   \n",
              "16  {'criterion': 'log_loss', 'max_depth': 2, 'spl...                NaN   \n",
              "17  {'criterion': 'log_loss', 'max_depth': 2, 'spl...                NaN   \n",
              "18  {'criterion': 'log_loss', 'max_depth': 3, 'spl...                NaN   \n",
              "19  {'criterion': 'log_loss', 'max_depth': 3, 'spl...                NaN   \n",
              "20  {'criterion': 'log_loss', 'max_depth': 4, 'spl...                NaN   \n",
              "21  {'criterion': 'log_loss', 'max_depth': 4, 'spl...                NaN   \n",
              "22  {'criterion': 'log_loss', 'max_depth': 5, 'spl...                NaN   \n",
              "23  {'criterion': 'log_loss', 'max_depth': 5, 'spl...                NaN   \n",
              "\n",
              "    split1_test_score  split2_test_score  split3_test_score  \\\n",
              "0            0.781419           0.779126           0.786408   \n",
              "1            0.762945           0.758765           0.765237   \n",
              "2            0.781419           0.779126           0.786408   \n",
              "3            0.789239           0.790858           0.789374   \n",
              "4            0.802184           0.801106           0.808927   \n",
              "5            0.798409           0.793150           0.806634   \n",
              "6            0.824029           0.816343           0.822276   \n",
              "7            0.789644           0.781014           0.797735   \n",
              "8            0.780879           0.777778           0.785868   \n",
              "9            0.775081           0.773598           0.770901   \n",
              "10           0.780609           0.777778           0.786138   \n",
              "11           0.782362           0.777643           0.798813   \n",
              "12           0.800027           0.798813           0.807443   \n",
              "13           0.780609           0.785194           0.781688   \n",
              "14           0.820793           0.814455           0.821467   \n",
              "15           0.796926           0.798139           0.808387   \n",
              "16                NaN                NaN                NaN   \n",
              "17                NaN                NaN                NaN   \n",
              "18                NaN                NaN                NaN   \n",
              "19                NaN                NaN                NaN   \n",
              "20                NaN                NaN                NaN   \n",
              "21                NaN                NaN                NaN   \n",
              "22                NaN                NaN                NaN   \n",
              "23                NaN                NaN                NaN   \n",
              "\n",
              "    split4_test_score  mean_test_score  std_test_score  rank_test_score  \n",
              "0            0.784790         0.779989        0.006418               11  \n",
              "1            0.764833         0.760356        0.005663               16  \n",
              "2            0.781553         0.779342        0.006054               12  \n",
              "3            0.773193         0.780906        0.011508                9  \n",
              "4            0.799353         0.799542        0.007446                3  \n",
              "5            0.788970         0.789698        0.015363                7  \n",
              "6            0.815129         0.817422        0.005274                1  \n",
              "7            0.801375         0.789968        0.008587                6  \n",
              "8            0.783981         0.779234        0.006407               14  \n",
              "9            0.777238         0.769364        0.009899               15  \n",
              "10           0.783981         0.779261        0.006402               13  \n",
              "11           0.776429         0.780798        0.010014               10  \n",
              "12           0.799622         0.798004        0.007607                4  \n",
              "13           0.782497         0.781041        0.003284                8  \n",
              "14           0.811354         0.815129        0.005366                2  \n",
              "15           0.790049         0.792098        0.013855                5  \n",
              "16                NaN              NaN             NaN               18  \n",
              "17                NaN              NaN             NaN               19  \n",
              "18                NaN              NaN             NaN               20  \n",
              "19                NaN              NaN             NaN               21  \n",
              "20                NaN              NaN             NaN               22  \n",
              "21                NaN              NaN             NaN               23  \n",
              "22                NaN              NaN             NaN               17  \n",
              "23                NaN              NaN             NaN               24  "
            ],
            "text/html": [
              "\n",
              "  <div id=\"df-60652af6-6b09-4aa7-a976-b09b8fd8a07c\">\n",
              "    <div class=\"colab-df-container\">\n",
              "      <div>\n",
              "<style scoped>\n",
              "    .dataframe tbody tr th:only-of-type {\n",
              "        vertical-align: middle;\n",
              "    }\n",
              "\n",
              "    .dataframe tbody tr th {\n",
              "        vertical-align: top;\n",
              "    }\n",
              "\n",
              "    .dataframe thead th {\n",
              "        text-align: right;\n",
              "    }\n",
              "</style>\n",
              "<table border=\"1\" class=\"dataframe\">\n",
              "  <thead>\n",
              "    <tr style=\"text-align: right;\">\n",
              "      <th></th>\n",
              "      <th>mean_fit_time</th>\n",
              "      <th>std_fit_time</th>\n",
              "      <th>mean_score_time</th>\n",
              "      <th>std_score_time</th>\n",
              "      <th>param_criterion</th>\n",
              "      <th>param_max_depth</th>\n",
              "      <th>param_splitter</th>\n",
              "      <th>params</th>\n",
              "      <th>split0_test_score</th>\n",
              "      <th>split1_test_score</th>\n",
              "      <th>split2_test_score</th>\n",
              "      <th>split3_test_score</th>\n",
              "      <th>split4_test_score</th>\n",
              "      <th>mean_test_score</th>\n",
              "      <th>std_test_score</th>\n",
              "      <th>rank_test_score</th>\n",
              "    </tr>\n",
              "  </thead>\n",
              "  <tbody>\n",
              "    <tr>\n",
              "      <th>0</th>\n",
              "      <td>0.023916</td>\n",
              "      <td>0.000887</td>\n",
              "      <td>0.003849</td>\n",
              "      <td>0.000118</td>\n",
              "      <td>gini</td>\n",
              "      <td>2</td>\n",
              "      <td>best</td>\n",
              "      <td>{'criterion': 'gini', 'max_depth': 2, 'splitte...</td>\n",
              "      <td>0.768204</td>\n",
              "      <td>0.781419</td>\n",
              "      <td>0.779126</td>\n",
              "      <td>0.786408</td>\n",
              "      <td>0.784790</td>\n",
              "      <td>0.779989</td>\n",
              "      <td>0.006418</td>\n",
              "      <td>11</td>\n",
              "    </tr>\n",
              "    <tr>\n",
              "      <th>1</th>\n",
              "      <td>0.020954</td>\n",
              "      <td>0.005054</td>\n",
              "      <td>0.004142</td>\n",
              "      <td>0.000673</td>\n",
              "      <td>gini</td>\n",
              "      <td>2</td>\n",
              "      <td>random</td>\n",
              "      <td>{'criterion': 'gini', 'max_depth': 2, 'splitte...</td>\n",
              "      <td>0.750000</td>\n",
              "      <td>0.762945</td>\n",
              "      <td>0.758765</td>\n",
              "      <td>0.765237</td>\n",
              "      <td>0.764833</td>\n",
              "      <td>0.760356</td>\n",
              "      <td>0.005663</td>\n",
              "      <td>16</td>\n",
              "    </tr>\n",
              "    <tr>\n",
              "      <th>2</th>\n",
              "      <td>0.029448</td>\n",
              "      <td>0.001493</td>\n",
              "      <td>0.003795</td>\n",
              "      <td>0.000051</td>\n",
              "      <td>gini</td>\n",
              "      <td>3</td>\n",
              "      <td>best</td>\n",
              "      <td>{'criterion': 'gini', 'max_depth': 3, 'splitte...</td>\n",
              "      <td>0.768204</td>\n",
              "      <td>0.781419</td>\n",
              "      <td>0.779126</td>\n",
              "      <td>0.786408</td>\n",
              "      <td>0.781553</td>\n",
              "      <td>0.779342</td>\n",
              "      <td>0.006054</td>\n",
              "      <td>12</td>\n",
              "    </tr>\n",
              "    <tr>\n",
              "      <th>3</th>\n",
              "      <td>0.020522</td>\n",
              "      <td>0.000289</td>\n",
              "      <td>0.003748</td>\n",
              "      <td>0.000084</td>\n",
              "      <td>gini</td>\n",
              "      <td>3</td>\n",
              "      <td>random</td>\n",
              "      <td>{'criterion': 'gini', 'max_depth': 3, 'splitte...</td>\n",
              "      <td>0.761866</td>\n",
              "      <td>0.789239</td>\n",
              "      <td>0.790858</td>\n",
              "      <td>0.789374</td>\n",
              "      <td>0.773193</td>\n",
              "      <td>0.780906</td>\n",
              "      <td>0.011508</td>\n",
              "      <td>9</td>\n",
              "    </tr>\n",
              "    <tr>\n",
              "      <th>4</th>\n",
              "      <td>0.034215</td>\n",
              "      <td>0.000682</td>\n",
              "      <td>0.003841</td>\n",
              "      <td>0.000044</td>\n",
              "      <td>gini</td>\n",
              "      <td>4</td>\n",
              "      <td>best</td>\n",
              "      <td>{'criterion': 'gini', 'max_depth': 4, 'splitte...</td>\n",
              "      <td>0.786138</td>\n",
              "      <td>0.802184</td>\n",
              "      <td>0.801106</td>\n",
              "      <td>0.808927</td>\n",
              "      <td>0.799353</td>\n",
              "      <td>0.799542</td>\n",
              "      <td>0.007446</td>\n",
              "      <td>3</td>\n",
              "    </tr>\n",
              "    <tr>\n",
              "      <th>5</th>\n",
              "      <td>0.027985</td>\n",
              "      <td>0.003620</td>\n",
              "      <td>0.004142</td>\n",
              "      <td>0.000519</td>\n",
              "      <td>gini</td>\n",
              "      <td>4</td>\n",
              "      <td>random</td>\n",
              "      <td>{'criterion': 'gini', 'max_depth': 4, 'splitte...</td>\n",
              "      <td>0.761327</td>\n",
              "      <td>0.798409</td>\n",
              "      <td>0.793150</td>\n",
              "      <td>0.806634</td>\n",
              "      <td>0.788970</td>\n",
              "      <td>0.789698</td>\n",
              "      <td>0.015363</td>\n",
              "      <td>7</td>\n",
              "    </tr>\n",
              "    <tr>\n",
              "      <th>6</th>\n",
              "      <td>0.039450</td>\n",
              "      <td>0.001717</td>\n",
              "      <td>0.003930</td>\n",
              "      <td>0.000048</td>\n",
              "      <td>gini</td>\n",
              "      <td>5</td>\n",
              "      <td>best</td>\n",
              "      <td>{'criterion': 'gini', 'max_depth': 5, 'splitte...</td>\n",
              "      <td>0.809331</td>\n",
              "      <td>0.824029</td>\n",
              "      <td>0.816343</td>\n",
              "      <td>0.822276</td>\n",
              "      <td>0.815129</td>\n",
              "      <td>0.817422</td>\n",
              "      <td>0.005274</td>\n",
              "      <td>1</td>\n",
              "    </tr>\n",
              "    <tr>\n",
              "      <th>7</th>\n",
              "      <td>0.028516</td>\n",
              "      <td>0.002916</td>\n",
              "      <td>0.004455</td>\n",
              "      <td>0.000775</td>\n",
              "      <td>gini</td>\n",
              "      <td>5</td>\n",
              "      <td>random</td>\n",
              "      <td>{'criterion': 'gini', 'max_depth': 5, 'splitte...</td>\n",
              "      <td>0.780070</td>\n",
              "      <td>0.789644</td>\n",
              "      <td>0.781014</td>\n",
              "      <td>0.797735</td>\n",
              "      <td>0.801375</td>\n",
              "      <td>0.789968</td>\n",
              "      <td>0.008587</td>\n",
              "      <td>6</td>\n",
              "    </tr>\n",
              "    <tr>\n",
              "      <th>8</th>\n",
              "      <td>0.023485</td>\n",
              "      <td>0.000308</td>\n",
              "      <td>0.003718</td>\n",
              "      <td>0.000037</td>\n",
              "      <td>entropy</td>\n",
              "      <td>2</td>\n",
              "      <td>best</td>\n",
              "      <td>{'criterion': 'entropy', 'max_depth': 2, 'spli...</td>\n",
              "      <td>0.767665</td>\n",
              "      <td>0.780879</td>\n",
              "      <td>0.777778</td>\n",
              "      <td>0.785868</td>\n",
              "      <td>0.783981</td>\n",
              "      <td>0.779234</td>\n",
              "      <td>0.006407</td>\n",
              "      <td>14</td>\n",
              "    </tr>\n",
              "    <tr>\n",
              "      <th>9</th>\n",
              "      <td>0.018057</td>\n",
              "      <td>0.000420</td>\n",
              "      <td>0.003761</td>\n",
              "      <td>0.000281</td>\n",
              "      <td>entropy</td>\n",
              "      <td>2</td>\n",
              "      <td>random</td>\n",
              "      <td>{'criterion': 'entropy', 'max_depth': 2, 'spli...</td>\n",
              "      <td>0.750000</td>\n",
              "      <td>0.775081</td>\n",
              "      <td>0.773598</td>\n",
              "      <td>0.770901</td>\n",
              "      <td>0.777238</td>\n",
              "      <td>0.769364</td>\n",
              "      <td>0.009899</td>\n",
              "      <td>15</td>\n",
              "    </tr>\n",
              "    <tr>\n",
              "      <th>10</th>\n",
              "      <td>0.029094</td>\n",
              "      <td>0.000856</td>\n",
              "      <td>0.003845</td>\n",
              "      <td>0.000163</td>\n",
              "      <td>entropy</td>\n",
              "      <td>3</td>\n",
              "      <td>best</td>\n",
              "      <td>{'criterion': 'entropy', 'max_depth': 3, 'spli...</td>\n",
              "      <td>0.767799</td>\n",
              "      <td>0.780609</td>\n",
              "      <td>0.777778</td>\n",
              "      <td>0.786138</td>\n",
              "      <td>0.783981</td>\n",
              "      <td>0.779261</td>\n",
              "      <td>0.006402</td>\n",
              "      <td>13</td>\n",
              "    </tr>\n",
              "    <tr>\n",
              "      <th>11</th>\n",
              "      <td>0.021921</td>\n",
              "      <td>0.001736</td>\n",
              "      <td>0.004068</td>\n",
              "      <td>0.000546</td>\n",
              "      <td>entropy</td>\n",
              "      <td>3</td>\n",
              "      <td>random</td>\n",
              "      <td>{'criterion': 'entropy', 'max_depth': 3, 'spli...</td>\n",
              "      <td>0.768743</td>\n",
              "      <td>0.782362</td>\n",
              "      <td>0.777643</td>\n",
              "      <td>0.798813</td>\n",
              "      <td>0.776429</td>\n",
              "      <td>0.780798</td>\n",
              "      <td>0.010014</td>\n",
              "      <td>10</td>\n",
              "    </tr>\n",
              "    <tr>\n",
              "      <th>12</th>\n",
              "      <td>0.034896</td>\n",
              "      <td>0.001709</td>\n",
              "      <td>0.004034</td>\n",
              "      <td>0.000424</td>\n",
              "      <td>entropy</td>\n",
              "      <td>4</td>\n",
              "      <td>best</td>\n",
              "      <td>{'criterion': 'entropy', 'max_depth': 4, 'spli...</td>\n",
              "      <td>0.784115</td>\n",
              "      <td>0.800027</td>\n",
              "      <td>0.798813</td>\n",
              "      <td>0.807443</td>\n",
              "      <td>0.799622</td>\n",
              "      <td>0.798004</td>\n",
              "      <td>0.007607</td>\n",
              "      <td>4</td>\n",
              "    </tr>\n",
              "    <tr>\n",
              "      <th>13</th>\n",
              "      <td>0.023634</td>\n",
              "      <td>0.001836</td>\n",
              "      <td>0.004312</td>\n",
              "      <td>0.000760</td>\n",
              "      <td>entropy</td>\n",
              "      <td>4</td>\n",
              "      <td>random</td>\n",
              "      <td>{'criterion': 'entropy', 'max_depth': 4, 'spli...</td>\n",
              "      <td>0.775216</td>\n",
              "      <td>0.780609</td>\n",
              "      <td>0.785194</td>\n",
              "      <td>0.781688</td>\n",
              "      <td>0.782497</td>\n",
              "      <td>0.781041</td>\n",
              "      <td>0.003284</td>\n",
              "      <td>8</td>\n",
              "    </tr>\n",
              "    <tr>\n",
              "      <th>14</th>\n",
              "      <td>0.040004</td>\n",
              "      <td>0.000648</td>\n",
              "      <td>0.004257</td>\n",
              "      <td>0.000647</td>\n",
              "      <td>entropy</td>\n",
              "      <td>5</td>\n",
              "      <td>best</td>\n",
              "      <td>{'criterion': 'entropy', 'max_depth': 5, 'spli...</td>\n",
              "      <td>0.807578</td>\n",
              "      <td>0.820793</td>\n",
              "      <td>0.814455</td>\n",
              "      <td>0.821467</td>\n",
              "      <td>0.811354</td>\n",
              "      <td>0.815129</td>\n",
              "      <td>0.005366</td>\n",
              "      <td>2</td>\n",
              "    </tr>\n",
              "    <tr>\n",
              "      <th>15</th>\n",
              "      <td>0.027607</td>\n",
              "      <td>0.003325</td>\n",
              "      <td>0.004049</td>\n",
              "      <td>0.000144</td>\n",
              "      <td>entropy</td>\n",
              "      <td>5</td>\n",
              "      <td>random</td>\n",
              "      <td>{'criterion': 'entropy', 'max_depth': 5, 'spli...</td>\n",
              "      <td>0.766990</td>\n",
              "      <td>0.796926</td>\n",
              "      <td>0.798139</td>\n",
              "      <td>0.808387</td>\n",
              "      <td>0.790049</td>\n",
              "      <td>0.792098</td>\n",
              "      <td>0.013855</td>\n",
              "      <td>5</td>\n",
              "    </tr>\n",
              "    <tr>\n",
              "      <th>16</th>\n",
              "      <td>0.011364</td>\n",
              "      <td>0.000159</td>\n",
              "      <td>0.000000</td>\n",
              "      <td>0.000000</td>\n",
              "      <td>log_loss</td>\n",
              "      <td>2</td>\n",
              "      <td>best</td>\n",
              "      <td>{'criterion': 'log_loss', 'max_depth': 2, 'spl...</td>\n",
              "      <td>NaN</td>\n",
              "      <td>NaN</td>\n",
              "      <td>NaN</td>\n",
              "      <td>NaN</td>\n",
              "      <td>NaN</td>\n",
              "      <td>NaN</td>\n",
              "      <td>NaN</td>\n",
              "      <td>18</td>\n",
              "    </tr>\n",
              "    <tr>\n",
              "      <th>17</th>\n",
              "      <td>0.011421</td>\n",
              "      <td>0.000180</td>\n",
              "      <td>0.000000</td>\n",
              "      <td>0.000000</td>\n",
              "      <td>log_loss</td>\n",
              "      <td>2</td>\n",
              "      <td>random</td>\n",
              "      <td>{'criterion': 'log_loss', 'max_depth': 2, 'spl...</td>\n",
              "      <td>NaN</td>\n",
              "      <td>NaN</td>\n",
              "      <td>NaN</td>\n",
              "      <td>NaN</td>\n",
              "      <td>NaN</td>\n",
              "      <td>NaN</td>\n",
              "      <td>NaN</td>\n",
              "      <td>19</td>\n",
              "    </tr>\n",
              "    <tr>\n",
              "      <th>18</th>\n",
              "      <td>0.011179</td>\n",
              "      <td>0.000116</td>\n",
              "      <td>0.000000</td>\n",
              "      <td>0.000000</td>\n",
              "      <td>log_loss</td>\n",
              "      <td>3</td>\n",
              "      <td>best</td>\n",
              "      <td>{'criterion': 'log_loss', 'max_depth': 3, 'spl...</td>\n",
              "      <td>NaN</td>\n",
              "      <td>NaN</td>\n",
              "      <td>NaN</td>\n",
              "      <td>NaN</td>\n",
              "      <td>NaN</td>\n",
              "      <td>NaN</td>\n",
              "      <td>NaN</td>\n",
              "      <td>20</td>\n",
              "    </tr>\n",
              "    <tr>\n",
              "      <th>19</th>\n",
              "      <td>0.011567</td>\n",
              "      <td>0.000290</td>\n",
              "      <td>0.000000</td>\n",
              "      <td>0.000000</td>\n",
              "      <td>log_loss</td>\n",
              "      <td>3</td>\n",
              "      <td>random</td>\n",
              "      <td>{'criterion': 'log_loss', 'max_depth': 3, 'spl...</td>\n",
              "      <td>NaN</td>\n",
              "      <td>NaN</td>\n",
              "      <td>NaN</td>\n",
              "      <td>NaN</td>\n",
              "      <td>NaN</td>\n",
              "      <td>NaN</td>\n",
              "      <td>NaN</td>\n",
              "      <td>21</td>\n",
              "    </tr>\n",
              "    <tr>\n",
              "      <th>20</th>\n",
              "      <td>0.011005</td>\n",
              "      <td>0.000114</td>\n",
              "      <td>0.000000</td>\n",
              "      <td>0.000000</td>\n",
              "      <td>log_loss</td>\n",
              "      <td>4</td>\n",
              "      <td>best</td>\n",
              "      <td>{'criterion': 'log_loss', 'max_depth': 4, 'spl...</td>\n",
              "      <td>NaN</td>\n",
              "      <td>NaN</td>\n",
              "      <td>NaN</td>\n",
              "      <td>NaN</td>\n",
              "      <td>NaN</td>\n",
              "      <td>NaN</td>\n",
              "      <td>NaN</td>\n",
              "      <td>22</td>\n",
              "    </tr>\n",
              "    <tr>\n",
              "      <th>21</th>\n",
              "      <td>0.011215</td>\n",
              "      <td>0.000360</td>\n",
              "      <td>0.000000</td>\n",
              "      <td>0.000000</td>\n",
              "      <td>log_loss</td>\n",
              "      <td>4</td>\n",
              "      <td>random</td>\n",
              "      <td>{'criterion': 'log_loss', 'max_depth': 4, 'spl...</td>\n",
              "      <td>NaN</td>\n",
              "      <td>NaN</td>\n",
              "      <td>NaN</td>\n",
              "      <td>NaN</td>\n",
              "      <td>NaN</td>\n",
              "      <td>NaN</td>\n",
              "      <td>NaN</td>\n",
              "      <td>23</td>\n",
              "    </tr>\n",
              "    <tr>\n",
              "      <th>22</th>\n",
              "      <td>0.012743</td>\n",
              "      <td>0.001605</td>\n",
              "      <td>0.000000</td>\n",
              "      <td>0.000000</td>\n",
              "      <td>log_loss</td>\n",
              "      <td>5</td>\n",
              "      <td>best</td>\n",
              "      <td>{'criterion': 'log_loss', 'max_depth': 5, 'spl...</td>\n",
              "      <td>NaN</td>\n",
              "      <td>NaN</td>\n",
              "      <td>NaN</td>\n",
              "      <td>NaN</td>\n",
              "      <td>NaN</td>\n",
              "      <td>NaN</td>\n",
              "      <td>NaN</td>\n",
              "      <td>17</td>\n",
              "    </tr>\n",
              "    <tr>\n",
              "      <th>23</th>\n",
              "      <td>0.011394</td>\n",
              "      <td>0.000222</td>\n",
              "      <td>0.000000</td>\n",
              "      <td>0.000000</td>\n",
              "      <td>log_loss</td>\n",
              "      <td>5</td>\n",
              "      <td>random</td>\n",
              "      <td>{'criterion': 'log_loss', 'max_depth': 5, 'spl...</td>\n",
              "      <td>NaN</td>\n",
              "      <td>NaN</td>\n",
              "      <td>NaN</td>\n",
              "      <td>NaN</td>\n",
              "      <td>NaN</td>\n",
              "      <td>NaN</td>\n",
              "      <td>NaN</td>\n",
              "      <td>24</td>\n",
              "    </tr>\n",
              "  </tbody>\n",
              "</table>\n",
              "</div>\n",
              "      <button class=\"colab-df-convert\" onclick=\"convertToInteractive('df-60652af6-6b09-4aa7-a976-b09b8fd8a07c')\"\n",
              "              title=\"Convert this dataframe to an interactive table.\"\n",
              "              style=\"display:none;\">\n",
              "        \n",
              "  <svg xmlns=\"http://www.w3.org/2000/svg\" height=\"24px\"viewBox=\"0 0 24 24\"\n",
              "       width=\"24px\">\n",
              "    <path d=\"M0 0h24v24H0V0z\" fill=\"none\"/>\n",
              "    <path d=\"M18.56 5.44l.94 2.06.94-2.06 2.06-.94-2.06-.94-.94-2.06-.94 2.06-2.06.94zm-11 1L8.5 8.5l.94-2.06 2.06-.94-2.06-.94L8.5 2.5l-.94 2.06-2.06.94zm10 10l.94 2.06.94-2.06 2.06-.94-2.06-.94-.94-2.06-.94 2.06-2.06.94z\"/><path d=\"M17.41 7.96l-1.37-1.37c-.4-.4-.92-.59-1.43-.59-.52 0-1.04.2-1.43.59L10.3 9.45l-7.72 7.72c-.78.78-.78 2.05 0 2.83L4 21.41c.39.39.9.59 1.41.59.51 0 1.02-.2 1.41-.59l7.78-7.78 2.81-2.81c.8-.78.8-2.07 0-2.86zM5.41 20L4 18.59l7.72-7.72 1.47 1.35L5.41 20z\"/>\n",
              "  </svg>\n",
              "      </button>\n",
              "      \n",
              "  <style>\n",
              "    .colab-df-container {\n",
              "      display:flex;\n",
              "      flex-wrap:wrap;\n",
              "      gap: 12px;\n",
              "    }\n",
              "\n",
              "    .colab-df-convert {\n",
              "      background-color: #E8F0FE;\n",
              "      border: none;\n",
              "      border-radius: 50%;\n",
              "      cursor: pointer;\n",
              "      display: none;\n",
              "      fill: #1967D2;\n",
              "      height: 32px;\n",
              "      padding: 0 0 0 0;\n",
              "      width: 32px;\n",
              "    }\n",
              "\n",
              "    .colab-df-convert:hover {\n",
              "      background-color: #E2EBFA;\n",
              "      box-shadow: 0px 1px 2px rgba(60, 64, 67, 0.3), 0px 1px 3px 1px rgba(60, 64, 67, 0.15);\n",
              "      fill: #174EA6;\n",
              "    }\n",
              "\n",
              "    [theme=dark] .colab-df-convert {\n",
              "      background-color: #3B4455;\n",
              "      fill: #D2E3FC;\n",
              "    }\n",
              "\n",
              "    [theme=dark] .colab-df-convert:hover {\n",
              "      background-color: #434B5C;\n",
              "      box-shadow: 0px 1px 3px 1px rgba(0, 0, 0, 0.15);\n",
              "      filter: drop-shadow(0px 1px 2px rgba(0, 0, 0, 0.3));\n",
              "      fill: #FFFFFF;\n",
              "    }\n",
              "  </style>\n",
              "\n",
              "      <script>\n",
              "        const buttonEl =\n",
              "          document.querySelector('#df-60652af6-6b09-4aa7-a976-b09b8fd8a07c button.colab-df-convert');\n",
              "        buttonEl.style.display =\n",
              "          google.colab.kernel.accessAllowed ? 'block' : 'none';\n",
              "\n",
              "        async function convertToInteractive(key) {\n",
              "          const element = document.querySelector('#df-60652af6-6b09-4aa7-a976-b09b8fd8a07c');\n",
              "          const dataTable =\n",
              "            await google.colab.kernel.invokeFunction('convertToInteractive',\n",
              "                                                     [key], {});\n",
              "          if (!dataTable) return;\n",
              "\n",
              "          const docLinkHtml = 'Like what you see? Visit the ' +\n",
              "            '<a target=\"_blank\" href=https://colab.research.google.com/notebooks/data_table.ipynb>data table notebook</a>'\n",
              "            + ' to learn more about interactive tables.';\n",
              "          element.innerHTML = '';\n",
              "          dataTable['output_type'] = 'display_data';\n",
              "          await google.colab.output.renderOutput(dataTable, element);\n",
              "          const docLink = document.createElement('div');\n",
              "          docLink.innerHTML = docLinkHtml;\n",
              "          element.appendChild(docLink);\n",
              "        }\n",
              "      </script>\n",
              "    </div>\n",
              "  </div>\n",
              "  "
            ]
          },
          "metadata": {},
          "execution_count": 125
        }
      ]
    },
    {
      "cell_type": "code",
      "source": [
        "grid.best_params_"
      ],
      "metadata": {
        "colab": {
          "base_uri": "https://localhost:8080/"
        },
        "id": "j9FPTJMC9nVD",
        "outputId": "9a59c379-644d-4903-c3e1-4f6f58a594ef"
      },
      "execution_count": 123,
      "outputs": [
        {
          "output_type": "execute_result",
          "data": {
            "text/plain": [
              "{'criterion': 'gini', 'max_depth': 5, 'splitter': 'best'}"
            ]
          },
          "metadata": {},
          "execution_count": 123
        }
      ]
    },
    {
      "cell_type": "code",
      "source": [
        "random_forest = RandomForestClassifier(criterion= 'entropy', max_depth= 3, n_estimators = 200)\n",
        "\n",
        "random_forest.fit(X_train, y_train)\n",
        "y_pred = random_forest.predict(X_test)\n",
        "\n",
        "acc = accuracy_score(y_pred, y_test)\n",
        "print(f\"Accuracy Score: {acc * 100} %\")\n",
        "print(classification_report(y_pred, y_test))"
      ],
      "metadata": {
        "colab": {
          "base_uri": "https://localhost:8080/"
        },
        "id": "vZmZmfSp9oHT",
        "outputId": "e2c992df-c176-42aa-ed59-e2b201534a31"
      },
      "execution_count": 143,
      "outputs": [
        {
          "output_type": "stream",
          "name": "stdout",
          "text": [
            "Accuracy Score: 78.2200647249191 %\n",
            "              precision    recall  f1-score   support\n",
            "\n",
            "           0       0.68      0.86      0.76      4933\n",
            "           1       0.89      0.73      0.80      7427\n",
            "\n",
            "    accuracy                           0.78     12360\n",
            "   macro avg       0.78      0.80      0.78     12360\n",
            "weighted avg       0.81      0.78      0.78     12360\n",
            "\n"
          ]
        }
      ]
    },
    {
      "cell_type": "code",
      "source": [
        "tree = DecisionTreeClassifier(criterion= 'entropy', max_depth = 2, splitter = 'best')\n",
        "\n",
        "tree.fit(X_train, y_train)\n",
        "y_pred = tree.predict(X_test)\n",
        "\n",
        "acc = accuracy_score(y_pred, y_test)\n",
        "print(f\"Accuracy Score: {acc * 100} %\")\n",
        "print(classification_report(y_pred, y_test))"
      ],
      "metadata": {
        "colab": {
          "base_uri": "https://localhost:8080/"
        },
        "id": "2crDjMbIBFu7",
        "outputId": "71eebb1a-1303-48ad-d820-8e0a88449ca5"
      },
      "execution_count": 142,
      "outputs": [
        {
          "output_type": "stream",
          "name": "stdout",
          "text": [
            "Accuracy Score: 77.26537216828478 %\n",
            "              precision    recall  f1-score   support\n",
            "\n",
            "           0       0.66      0.86      0.75      4827\n",
            "           1       0.89      0.72      0.79      7533\n",
            "\n",
            "    accuracy                           0.77     12360\n",
            "   macro avg       0.77      0.79      0.77     12360\n",
            "weighted avg       0.80      0.77      0.78     12360\n",
            "\n"
          ]
        }
      ]
    },
    {
      "cell_type": "code",
      "source": [
        "#without tuning\n",
        "random_forest = RandomForestClassifier()\n",
        "\n",
        "random_forest.fit(X_train, y_train)\n",
        "y_pred = random_forest.predict(X_test)\n",
        "\n",
        "acc = accuracy_score(y_pred, y_test)\n",
        "print(f\"Accuracy Score: {acc * 100} %\")\n",
        "print(classification_report(y_pred, y_test))"
      ],
      "metadata": {
        "colab": {
          "base_uri": "https://localhost:8080/"
        },
        "id": "Zqi8oZcVBz-S",
        "outputId": "b7b20ffc-59a6-406a-fb08-892c7ed68ad4"
      },
      "execution_count": 145,
      "outputs": [
        {
          "output_type": "stream",
          "name": "stdout",
          "text": [
            "Accuracy Score: 87.77508090614887 %\n",
            "              precision    recall  f1-score   support\n",
            "\n",
            "           0       0.82      0.93      0.87      5548\n",
            "           1       0.94      0.84      0.88      6812\n",
            "\n",
            "    accuracy                           0.88     12360\n",
            "   macro avg       0.88      0.88      0.88     12360\n",
            "weighted avg       0.88      0.88      0.88     12360\n",
            "\n"
          ]
        }
      ]
    },
    {
      "cell_type": "markdown",
      "source": [
        "#### Random forest without tuning is giving higer accuracy than after tuning"
      ],
      "metadata": {
        "id": "TnBF_gtACesg"
      }
    },
    {
      "cell_type": "code",
      "source": [],
      "metadata": {
        "id": "Ro7hksqTCly6"
      },
      "execution_count": null,
      "outputs": []
    }
  ]
}